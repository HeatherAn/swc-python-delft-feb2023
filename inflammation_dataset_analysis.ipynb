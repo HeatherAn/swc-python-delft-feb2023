{
 "cells": [
  {
   "cell_type": "markdown",
   "id": "84e6bbdb",
   "metadata": {},
   "source": [
    "# Inflammation Dataset Analysis"
   ]
  },
  {
   "cell_type": "code",
   "execution_count": 1,
   "id": "a9510d6c",
   "metadata": {},
   "outputs": [
    {
     "name": "stdout",
     "output_type": "stream",
     "text": [
      "C:\\Users\\handrewsmancil\\Desktop\\SWC_Python_Lesson\n",
      "C:\\Users\\handrewsmancil\\Anaconda3\\python39.zip\n",
      "C:\\Users\\handrewsmancil\\Anaconda3\\DLLs\n",
      "C:\\Users\\handrewsmancil\\Anaconda3\\lib\n",
      "C:\\Users\\handrewsmancil\\Anaconda3\n",
      "\n",
      "C:\\Users\\handrewsmancil\\Anaconda3\\lib\\site-packages\n",
      "C:\\Users\\handrewsmancil\\Desktop\\My_Scripts\n",
      "C:\\Users\\handrewsmancil\\Anaconda3\\lib\\site-packages\\win32\n",
      "C:\\Users\\handrewsmancil\\Anaconda3\\lib\\site-packages\\win32\\lib\n",
      "C:\\Users\\handrewsmancil\\Anaconda3\\lib\\site-packages\\Pythonwin\n",
      "C:\\Users\\handrewsmancil\\Anaconda3\\lib\\site-packages\\IPython\\extensions\n",
      "C:\\Users\\handrewsmancil\\.ipython\n"
     ]
    }
   ],
   "source": [
    "import sys\n",
    "\n",
    "for pth in sys.path:\n",
    "    print(pth)"
   ]
  },
  {
   "cell_type": "code",
   "execution_count": null,
   "id": "4d59ab47",
   "metadata": {},
   "outputs": [],
   "source": [
    "#sys.path.append('\\\\code')\n",
    "\n",
    "#for pth in sys.path:\n",
    "#    print(pth)"
   ]
  },
  {
   "cell_type": "code",
   "execution_count": null,
   "id": "91acecd4",
   "metadata": {},
   "outputs": [],
   "source": [
    "import numpy as np\n",
    "import matplotlib.pyplot as plt\n",
    "import glob\n",
    "import analysis_inflammation as anin"
   ]
  },
  {
   "cell_type": "code",
   "execution_count": null,
   "id": "1a756423",
   "metadata": {},
   "outputs": [],
   "source": [
    "filenames = sorted(glob.glob('./data/small*.csv'))\n",
    "output_file = open('./data/Flag_Minima.txt', 'w+')\n",
    "\n",
    "for file in filenames:\n",
    "    anin.visualize(file)\n",
    "    anin.detect_zero_minima(file, output_file)\n",
    "\n",
    "output_file.close()\n",
    "print('Done')"
   ]
  },
  {
   "cell_type": "code",
   "execution_count": null,
   "id": "1cb37bc8",
   "metadata": {},
   "outputs": [],
   "source": []
  }
 ],
 "metadata": {
  "kernelspec": {
   "display_name": "Python 3 (ipykernel)",
   "language": "python",
   "name": "python3"
  },
  "language_info": {
   "codemirror_mode": {
    "name": "ipython",
    "version": 3
   },
   "file_extension": ".py",
   "mimetype": "text/x-python",
   "name": "python",
   "nbconvert_exporter": "python",
   "pygments_lexer": "ipython3",
   "version": "3.9.13"
  }
 },
 "nbformat": 4,
 "nbformat_minor": 5
}
