{
 "cells": [
  {
   "cell_type": "markdown",
   "id": "6e943ddf",
   "metadata": {},
   "source": [
    "# Inflammation Dataset Analysis"
   ]
  },
  {
   "cell_type": "code",
   "execution_count": 2,
   "id": "4b06658b",
   "metadata": {},
   "outputs": [
    {
     "name": "stdout",
     "output_type": "stream",
     "text": [
      "C:\\Users\\handrewsmancil\\Desktop\\SWC_Python_Lesson\n",
      "C:\\Users\\handrewsmancil\\Anaconda3\\python39.zip\n",
      "C:\\Users\\handrewsmancil\\Anaconda3\\DLLs\n",
      "C:\\Users\\handrewsmancil\\Anaconda3\\lib\n",
      "C:\\Users\\handrewsmancil\\Anaconda3\n",
      "\n",
      "C:\\Users\\handrewsmancil\\Anaconda3\\lib\\site-packages\n",
      "C:\\Users\\handrewsmancil\\Desktop\\My_Scripts\n",
      "C:\\Users\\handrewsmancil\\Anaconda3\\lib\\site-packages\\win32\n",
      "C:\\Users\\handrewsmancil\\Anaconda3\\lib\\site-packages\\win32\\lib\n",
      "C:\\Users\\handrewsmancil\\Anaconda3\\lib\\site-packages\\Pythonwin\n",
      "C:\\Users\\handrewsmancil\\Anaconda3\\lib\\site-packages\\IPython\\extensions\n",
      "C:\\Users\\handrewsmancil\\.ipython\n"
     ]
    }
   ],
   "source": [
    "import sys\n",
    "\n",
    "for pth in sys.path:\n",
    "    print(pth)"
   ]
  },
  {
   "cell_type": "code",
   "execution_count": null,
   "id": "f0f41b06",
   "metadata": {},
   "outputs": [],
   "source": [
    "sys.path.append('\\\\code')"
   ]
  },
  {
   "cell_type": "code",
   "execution_count": 1,
   "id": "83cc48a4",
   "metadata": {},
   "outputs": [
    {
     "ename": "ModuleNotFoundError",
     "evalue": "No module named 'analysis_inflammation'",
     "output_type": "error",
     "traceback": [
      "\u001b[1;31m---------------------------------------------------------------------------\u001b[0m",
      "\u001b[1;31mModuleNotFoundError\u001b[0m                       Traceback (most recent call last)",
      "\u001b[1;32m~\\AppData\\Local\\Temp\\ipykernel_10288\\218229252.py\u001b[0m in \u001b[0;36m<module>\u001b[1;34m\u001b[0m\n\u001b[0;32m      2\u001b[0m \u001b[1;32mimport\u001b[0m \u001b[0mmatplotlib\u001b[0m\u001b[1;33m.\u001b[0m\u001b[0mpyplot\u001b[0m \u001b[1;32mas\u001b[0m \u001b[0mplt\u001b[0m\u001b[1;33m\u001b[0m\u001b[1;33m\u001b[0m\u001b[0m\n\u001b[0;32m      3\u001b[0m \u001b[1;32mimport\u001b[0m \u001b[0mglob\u001b[0m\u001b[1;33m\u001b[0m\u001b[1;33m\u001b[0m\u001b[0m\n\u001b[1;32m----> 4\u001b[1;33m \u001b[1;32mimport\u001b[0m \u001b[0manalysis_inflammation\u001b[0m \u001b[1;32mas\u001b[0m \u001b[0manin\u001b[0m\u001b[1;33m\u001b[0m\u001b[1;33m\u001b[0m\u001b[0m\n\u001b[0m",
      "\u001b[1;31mModuleNotFoundError\u001b[0m: No module named 'analysis_inflammation'"
     ]
    }
   ],
   "source": [
    "import numpy as np\n",
    "import matplotlib.pyplot as plt\n",
    "import glob\n",
    "import analysis_inflammation as anin"
   ]
  },
  {
   "cell_type": "code",
   "execution_count": null,
   "id": "3631a9e2",
   "metadata": {},
   "outputs": [],
   "source": [
    "filenames = sorted(glob.glob('./data/small*.csv'))\n",
    "output_file = open('./data/Flag_Minima.txt', 'w+')\n",
    "\n",
    "for file in filenames:\n",
    "    anin.visualize(file)\n",
    "    anin.detect_zero_minima(file, output_file)\n",
    "\n",
    "output_file.close()\n",
    "print('Done')"
   ]
  },
  {
   "cell_type": "code",
   "execution_count": null,
   "id": "81df2601",
   "metadata": {},
   "outputs": [],
   "source": []
  }
 ],
 "metadata": {
  "kernelspec": {
   "display_name": "Python 3 (ipykernel)",
   "language": "python",
   "name": "python3"
  },
  "language_info": {
   "codemirror_mode": {
    "name": "ipython",
    "version": 3
   },
   "file_extension": ".py",
   "mimetype": "text/x-python",
   "name": "python",
   "nbconvert_exporter": "python",
   "pygments_lexer": "ipython3",
   "version": "3.9.13"
  }
 },
 "nbformat": 4,
 "nbformat_minor": 5
}
