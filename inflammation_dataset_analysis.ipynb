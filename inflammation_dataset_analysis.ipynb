{
 "cells": [
  {
   "cell_type": "markdown",
   "id": "21f86207",
   "metadata": {},
   "source": [
    "# Inflammation Dataset Analysis\n",
    "\n"
   ]
  },
  {
   "cell_type": "code",
   "execution_count": null,
   "id": "308d47a7",
   "metadata": {},
   "outputs": [],
   "source": [
    "import sys\n",
    "\n",
    "for pth in sys.path:\n",
    "    print(pth)"
   ]
  },
  {
   "cell_type": "code",
   "execution_count": null,
   "id": "c5a2436c",
   "metadata": {},
   "outputs": [],
   "source": [
    "sys.path.append('code')\n",
    "\n",
    "for pth in sys.path:\n",
    "    print(pth)"
   ]
  },
  {
   "cell_type": "code",
   "execution_count": null,
   "id": "4ab3463e",
   "metadata": {},
   "outputs": [],
   "source": [
    "import numpy as np\n",
    "import matplotlib.pyplot as plt\n",
    "import glob\n",
    "import analysis_inflammation as anin"
   ]
  },
  {
   "cell_type": "code",
   "execution_count": null,
   "id": "4871b23f",
   "metadata": {},
   "outputs": [],
   "source": [
    "filenames = sorted(glob.glob('./data/small*.csv'))\n",
    "output_file = open('./data/Flag_Minima.txt', 'w+')\n",
    "\n",
    "for file in filenames:\n",
    "    anin.visualize(file)\n",
    "    anin.detect_zero_minima(file, output_file)\n",
    "\n",
    "output_file.close()\n",
    "print('Done')"
   ]
  },
  {
   "cell_type": "code",
   "execution_count": null,
   "id": "3505cec7",
   "metadata": {},
   "outputs": [],
   "source": []
  },
  {
   "cell_type": "code",
   "execution_count": null,
   "id": "e4a8ee3a",
   "metadata": {},
   "outputs": [],
   "source": []
  }
 ],
 "metadata": {
  "kernelspec": {
   "display_name": "Python 3 (ipykernel)",
   "language": "python",
   "name": "python3"
  },
  "language_info": {
   "codemirror_mode": {
    "name": "ipython",
    "version": 3
   },
   "file_extension": ".py",
   "mimetype": "text/x-python",
   "name": "python",
   "nbconvert_exporter": "python",
   "pygments_lexer": "ipython3",
   "version": "3.9.13"
  }
 },
 "nbformat": 4,
 "nbformat_minor": 5
}
