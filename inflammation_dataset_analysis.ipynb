{
 "cells": [
  {
   "cell_type": "markdown",
   "id": "f9717a69",
   "metadata": {},
   "source": [
    "# Inflammation Dataset Analysis\n",
    "\n",
    "First we look into the Path (of directories) where Anaconda (Python installed in Anaconda) is looking for **python scripts**:"
   ]
  },
  {
   "cell_type": "code",
   "execution_count": null,
   "id": "16bc2eb9",
   "metadata": {},
   "outputs": [],
   "source": [
    "import sys\n",
    "\n",
    "for pth in sys.path:\n",
    "    print(pth)"
   ]
  },
  {
   "cell_type": "markdown",
   "id": "ba5b1594",
   "metadata": {},
   "source": [
    "Since our `analysis_inflammation.py` is in another directory (`code/`), then we need to append the **relative path** to `code/` to the variable `sys.path` (which contains a list of all directories where Python looks for Python"
   ]
  },
  {
   "cell_type": "code",
   "execution_count": null,
   "id": "c36a4e30",
   "metadata": {},
   "outputs": [],
   "source": [
    "sys.path.append('code')\n",
    "\n",
    "for pth in sys.path:\n",
    "    print(pth)"
   ]
  },
  {
   "cell_type": "code",
   "execution_count": null,
   "id": "7e72fd88",
   "metadata": {},
   "outputs": [],
   "source": [
    "import numpy as np\n",
    "import matplotlib.pyplot as plt\n",
    "import glob\n",
    "import analysis_inflammation as anin"
   ]
  },
  {
   "cell_type": "code",
   "execution_count": null,
   "id": "a76cf5a4",
   "metadata": {},
   "outputs": [],
   "source": [
    "filenames = sorted(glob.glob('./data/small*.csv'))\n",
    "output_file = open('./data/Flag_Minima.txt', 'w+')\n",
    "\n",
    "for file in filenames:\n",
    "    anin.visualize(file)\n",
    "    anin.detect_zero_minima(file, output_file)\n",
    "\n",
    "output_file.close()\n",
    "print('Done')"
   ]
  },
  {
   "cell_type": "code",
   "execution_count": null,
   "id": "36608f9d",
   "metadata": {},
   "outputs": [],
   "source": []
  },
  {
   "cell_type": "code",
   "execution_count": null,
   "id": "017a443b",
   "metadata": {},
   "outputs": [],
   "source": []
  }
 ],
 "metadata": {
  "kernelspec": {
   "display_name": "Python 3 (ipykernel)",
   "language": "python",
   "name": "python3"
  },
  "language_info": {
   "codemirror_mode": {
    "name": "ipython",
    "version": 3
   },
   "file_extension": ".py",
   "mimetype": "text/x-python",
   "name": "python",
   "nbconvert_exporter": "python",
   "pygments_lexer": "ipython3",
   "version": "3.9.13"
  }
 },
 "nbformat": 4,
 "nbformat_minor": 5
}
