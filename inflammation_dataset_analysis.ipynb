{
 "cells": [
  {
   "cell_type": "markdown",
   "id": "33b19fc2",
   "metadata": {},
   "source": [
    "# Inflammation Dataset Analysis\n",
    "\n",
    "First we look into the Path (of directories) where Anaconda (Python installed in Anaconda) is looking for **python scripts**:"
   ]
  },
  {
   "cell_type": "code",
   "execution_count": null,
   "id": "1d8f5d2e",
   "metadata": {},
   "outputs": [],
   "source": [
    "import sys\n",
    "\n",
    "for pth in sys.path:\n",
    "    print(pth)"
   ]
  },
  {
   "cell_type": "markdown",
   "id": "f4810cd5",
   "metadata": {},
   "source": [
    "Since our `analysis_inflammation.py` is in another directory (`code/`), then we need to append the **relative path** to `code/` to the variable `sys.path` (which contains a list of all directories where Python looks for Python scrips):"
   ]
  },
  {
   "cell_type": "code",
   "execution_count": null,
   "id": "6aef7f67",
   "metadata": {},
   "outputs": [],
   "source": [
    "sys.path.append('code')\n",
    "\n",
    "for pth in sys.path:\n",
    "    print(pth)"
   ]
  },
  {
   "cell_type": "code",
   "execution_count": null,
   "id": "5fb62131",
   "metadata": {},
   "outputs": [],
   "source": [
    "import numpy as np\n",
    "import matplotlib.pyplot as plt\n",
    "import glob\n",
    "import analysis_inflammation as anin"
   ]
  },
  {
   "cell_type": "code",
   "execution_count": null,
   "id": "43517e79",
   "metadata": {},
   "outputs": [],
   "source": [
    "filenames = sorted(glob.glob('./data/small*.csv'))\n",
    "output_file = open('./data/Flag_Minima.txt', 'w+')\n",
    "\n",
    "for file in filenames:\n",
    "    anin.visualize(file)\n",
    "    anin.detect_zero_minima(file, output_file)\n",
    "\n",
    "output_file.close()\n",
    "print('Done')"
   ]
  },
  {
   "cell_type": "code",
   "execution_count": null,
   "id": "b7115baa",
   "metadata": {},
   "outputs": [],
   "source": []
  },
  {
   "cell_type": "code",
   "execution_count": null,
   "id": "60be6c6b",
   "metadata": {},
   "outputs": [],
   "source": []
  }
 ],
 "metadata": {
  "kernelspec": {
   "display_name": "Python 3 (ipykernel)",
   "language": "python",
   "name": "python3"
  },
  "language_info": {
   "codemirror_mode": {
    "name": "ipython",
    "version": 3
   },
   "file_extension": ".py",
   "mimetype": "text/x-python",
   "name": "python",
   "nbconvert_exporter": "python",
   "pygments_lexer": "ipython3",
   "version": "3.9.13"
  }
 },
 "nbformat": 4,
 "nbformat_minor": 5
}
