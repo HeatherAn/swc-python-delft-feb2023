{
 "cells": [
  {
   "cell_type": "markdown",
   "id": "f9ba8420",
   "metadata": {},
   "source": [
    "# Inflammation Dataset Analysis\n",
    "\n",
    "First we look into the Path (of directories) where Anaconda (Python installed in Anaconda) is looking for **python scripts**:"
   ]
  },
  {
   "cell_type": "code",
   "execution_count": 1,
   "id": "79236d32",
   "metadata": {},
   "outputs": [
    {
     "name": "stdout",
     "output_type": "stream",
     "text": [
      "C:\\Users\\handrewsmancil\\Desktop\\SWC_Python_Lesson\n",
      "C:\\Users\\handrewsmancil\\Anaconda3\\python39.zip\n",
      "C:\\Users\\handrewsmancil\\Anaconda3\\DLLs\n",
      "C:\\Users\\handrewsmancil\\Anaconda3\\lib\n",
      "C:\\Users\\handrewsmancil\\Anaconda3\n",
      "\n",
      "C:\\Users\\handrewsmancil\\Anaconda3\\lib\\site-packages\n",
      "C:\\Users\\handrewsmancil\\Anaconda3\\lib\\site-packages\\win32\n",
      "C:\\Users\\handrewsmancil\\Anaconda3\\lib\\site-packages\\win32\\lib\n",
      "C:\\Users\\handrewsmancil\\Anaconda3\\lib\\site-packages\\Pythonwin\n",
      "C:\\Users\\handrewsmancil\\Anaconda3\\lib\\site-packages\\IPython\\extensions\n",
      "C:\\Users\\handrewsmancil\\.ipython\n"
     ]
    }
   ],
   "source": [
    "import sys\n",
    "\n",
    "for pth in sys.path:\n",
    "    print(pth)"
   ]
  },
  {
   "cell_type": "markdown",
   "id": "87fcd26f",
   "metadata": {},
   "source": [
    "Since our `analysis_inflammation.py` is in another directory (`code/`), then we need to append the **relative path** to `code/` to the variable `sys.path` (which contains a list of all directories where Python looks for Python scrips):"
   ]
  },
  {
   "cell_type": "code",
   "execution_count": 2,
   "id": "00e43099",
   "metadata": {},
   "outputs": [],
   "source": [
    "#sys.path.append('code')\n",
    "\n",
    "#for pth in sys.path:\n",
    "#    print(pth)\n",
    "\n"
   ]
  },
  {
   "cell_type": "code",
   "execution_count": 3,
   "id": "cceada7c",
   "metadata": {},
   "outputs": [
    {
     "ename": "ModuleNotFoundError",
     "evalue": "No module named 'analysis_inflammation'",
     "output_type": "error",
     "traceback": [
      "\u001b[1;31m---------------------------------------------------------------------------\u001b[0m",
      "\u001b[1;31mModuleNotFoundError\u001b[0m                       Traceback (most recent call last)",
      "\u001b[1;32m~\\AppData\\Local\\Temp\\ipykernel_2212\\218229252.py\u001b[0m in \u001b[0;36m<module>\u001b[1;34m\u001b[0m\n\u001b[0;32m      2\u001b[0m \u001b[1;32mimport\u001b[0m \u001b[0mmatplotlib\u001b[0m\u001b[1;33m.\u001b[0m\u001b[0mpyplot\u001b[0m \u001b[1;32mas\u001b[0m \u001b[0mplt\u001b[0m\u001b[1;33m\u001b[0m\u001b[1;33m\u001b[0m\u001b[0m\n\u001b[0;32m      3\u001b[0m \u001b[1;32mimport\u001b[0m \u001b[0mglob\u001b[0m\u001b[1;33m\u001b[0m\u001b[1;33m\u001b[0m\u001b[0m\n\u001b[1;32m----> 4\u001b[1;33m \u001b[1;32mimport\u001b[0m \u001b[0manalysis_inflammation\u001b[0m \u001b[1;32mas\u001b[0m \u001b[0manin\u001b[0m\u001b[1;33m\u001b[0m\u001b[1;33m\u001b[0m\u001b[0m\n\u001b[0m",
      "\u001b[1;31mModuleNotFoundError\u001b[0m: No module named 'analysis_inflammation'"
     ]
    }
   ],
   "source": [
    "import numpy as np\n",
    "import matplotlib.pyplot as plt\n",
    "import glob\n",
    "import analysis_inflammation as anin"
   ]
  },
  {
   "cell_type": "code",
   "execution_count": null,
   "id": "575bda0d",
   "metadata": {},
   "outputs": [],
   "source": [
    "filenames = sorted(glob.glob('./data/small*.csv'))\n",
    "output_file = open('./data/Flag_Minima.txt', 'w+')\n",
    "\n",
    "for file in filenames:\n",
    "    anin.visualize(file)\n",
    "    anin.detect_zero_minima(file, output_file)\n",
    "\n",
    "output_file.close()\n",
    "print('Done')"
   ]
  },
  {
   "cell_type": "code",
   "execution_count": null,
   "id": "3007e5ee",
   "metadata": {},
   "outputs": [],
   "source": []
  },
  {
   "cell_type": "code",
   "execution_count": null,
   "id": "f564ec7a",
   "metadata": {},
   "outputs": [],
   "source": []
  }
 ],
 "metadata": {
  "kernelspec": {
   "display_name": "Python 3 (ipykernel)",
   "language": "python",
   "name": "python3"
  },
  "language_info": {
   "codemirror_mode": {
    "name": "ipython",
    "version": 3
   },
   "file_extension": ".py",
   "mimetype": "text/x-python",
   "name": "python",
   "nbconvert_exporter": "python",
   "pygments_lexer": "ipython3",
   "version": "3.9.13"
  }
 },
 "nbformat": 4,
 "nbformat_minor": 5
}
