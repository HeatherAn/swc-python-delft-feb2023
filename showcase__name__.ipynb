{
 "cells": [
  {
   "cell_type": "markdown",
   "id": "092ebc60",
   "metadata": {},
   "source": [
    "# Showcase __name__\n"
   ]
  },
  {
   "cell_type": "code",
   "execution_count": null,
   "id": "9a4c06d2",
   "metadata": {},
   "outputs": [],
   "source": [
    "%run"
   ]
  }
 ],
 "metadata": {
  "kernelspec": {
   "display_name": "Python 3 (ipykernel)",
   "language": "python",
   "name": "python3"
  },
  "language_info": {
   "codemirror_mode": {
    "name": "ipython",
    "version": 3
   },
   "file_extension": ".py",
   "mimetype": "text/x-python",
   "name": "python",
   "nbconvert_exporter": "python",
   "pygments_lexer": "ipython3",
   "version": "3.9.13"
  }
 },
 "nbformat": 4,
 "nbformat_minor": 5
}
