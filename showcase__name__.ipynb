{
 "cells": [
  {
   "cell_type": "markdown",
   "id": "181c2080",
   "metadata": {},
   "source": [
    "# Showcase __name__\n",
    "\n",
    "\n",
    "This is running a Python script as a **source file** in a notebook. It is analogue to:\n",
    "\n",
    "```\n",
    "python analysis_inflammation.py\n",
    "```\n",
    "\n",
    "in your terminal."
   ]
  },
  {
   "cell_type": "code",
   "execution_count": 1,
   "id": "01068831",
   "metadata": {},
   "outputs": [
    {
     "name": "stdout",
     "output_type": "stream",
     "text": [
      "Using analysis_inflammation as source file\n",
      "__main__\n"
     ]
    }
   ],
   "source": [
    "%run analysis_inflammation.py"
   ]
  },
  {
   "cell_type": "markdown",
   "id": "d76fd5dc",
   "metadata": {},
   "source": [
    "This is **importing the functions** defined in a Python script into this notebook:"
   ]
  },
  {
   "cell_type": "code",
   "execution_count": 2,
   "id": "e81cf791",
   "metadata": {},
   "outputs": [],
   "source": [
    "import analysis_inflammation as anin"
   ]
  },
  {
   "cell_type": "code",
   "execution_count": 3,
   "id": "8179c23b",
   "metadata": {},
   "outputs": [
    {
     "name": "stdout",
     "output_type": "stream",
     "text": [
      "Help on function visualize in module analysis_inflammation:\n",
      "\n",
      "visualize(f)\n",
      "    Plot maximum, minimum and mean values of two dimensional data.\n",
      "    \n",
      "    Plot maximum, minimum and mean values calculated across all rows of \n",
      "    data contained in a CSV file, and save plot in a PNG file.\n",
      "    \n",
      "    Parameters\n",
      "    ----------\n",
      "    f : str\n",
      "        name (including path) of CSV file containing the data.\n",
      "    \n",
      "    Returns\n",
      "    -------\n",
      "    None\n",
      "    \n",
      "    Raises\n",
      "    ------\n",
      "    None\n",
      "\n"
     ]
    }
   ],
   "source": [
    "help(anin.visualize)"
   ]
  },
  {
   "cell_type": "code",
   "execution_count": null,
   "id": "6b298e5e",
   "metadata": {},
   "outputs": [],
   "source": []
  }
 ],
 "metadata": {
  "kernelspec": {
   "display_name": "Python 3 (ipykernel)",
   "language": "python",
   "name": "python3"
  },
  "language_info": {
   "codemirror_mode": {
    "name": "ipython",
    "version": 3
   },
   "file_extension": ".py",
   "mimetype": "text/x-python",
   "name": "python",
   "nbconvert_exporter": "python",
   "pygments_lexer": "ipython3",
   "version": "3.9.13"
  }
 },
 "nbformat": 4,
 "nbformat_minor": 5
}
