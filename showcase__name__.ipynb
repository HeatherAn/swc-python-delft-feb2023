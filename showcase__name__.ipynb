{
 "cells": [
  {
   "cell_type": "markdown",
   "id": "e27e5fa0",
   "metadata": {},
   "source": [
    "# Showcase __name__\n",
    "\n",
    "\n",
    "This is running a Python script as a **source file in a notebook. It is analogue to:\n",
    "\n",
    "```\n",
    "python analysis_inflammation.py\n",
    "```\n",
    "\n",
    "in your terminal."
   ]
  },
  {
   "cell_type": "code",
   "execution_count": 1,
   "id": "a654d356",
   "metadata": {},
   "outputs": [
    {
     "name": "stdout",
     "output_type": "stream",
     "text": [
      "Using analysis_inflammation as source file\n",
      "__main__\n"
     ]
    }
   ],
   "source": [
    "%run analysis_inflammation.py"
   ]
  },
  {
   "cell_type": "markdown",
   "id": "7bd31180",
   "metadata": {},
   "source": [
    "This is importing the functions defined in a Python script to this notebook:\n"
   ]
  }
 ],
 "metadata": {
  "kernelspec": {
   "display_name": "Python 3 (ipykernel)",
   "language": "python",
   "name": "python3"
  },
  "language_info": {
   "codemirror_mode": {
    "name": "ipython",
    "version": 3
   },
   "file_extension": ".py",
   "mimetype": "text/x-python",
   "name": "python",
   "nbconvert_exporter": "python",
   "pygments_lexer": "ipython3",
   "version": "3.9.13"
  }
 },
 "nbformat": 4,
 "nbformat_minor": 5
}
