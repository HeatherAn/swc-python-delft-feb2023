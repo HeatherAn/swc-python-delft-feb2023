{
 "cells": [
  {
   "cell_type": "markdown",
   "id": "3ff95725",
   "metadata": {},
   "source": [
    "# Showcase __name__\n"
   ]
  },
  {
   "cell_type": "code",
   "execution_count": 1,
   "id": "9c57199a",
   "metadata": {},
   "outputs": [
    {
     "name": "stdout",
     "output_type": "stream",
     "text": [
      "Using analysis_inflammation as source file\n",
      "__main__\n"
     ]
    }
   ],
   "source": [
    "%run analysis_inflammation.py"
   ]
  },
  {
   "cell_type": "code",
   "execution_count": null,
   "id": "2da1edf0",
   "metadata": {},
   "outputs": [],
   "source": []
  }
 ],
 "metadata": {
  "kernelspec": {
   "display_name": "Python 3 (ipykernel)",
   "language": "python",
   "name": "python3"
  },
  "language_info": {
   "codemirror_mode": {
    "name": "ipython",
    "version": 3
   },
   "file_extension": ".py",
   "mimetype": "text/x-python",
   "name": "python",
   "nbconvert_exporter": "python",
   "pygments_lexer": "ipython3",
   "version": "3.9.13"
  }
 },
 "nbformat": 4,
 "nbformat_minor": 5
}
