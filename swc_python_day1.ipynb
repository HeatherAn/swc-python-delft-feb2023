{
 "cells": [
  {
   "cell_type": "markdown",
   "id": "e97ad709-afa0-465b-a519-6a35a5b41184",
   "metadata": {},
   "source": [
    "# SWC Python Day 1"
   ]
  },
  {
   "cell_type": "markdown",
   "id": "5efceb2c-54ff-4ae4-99e2-5569b48bb53a",
   "metadata": {},
   "source": [
    "## This is a second level heading"
   ]
  },
  {
   "cell_type": "markdown",
   "id": "c11b4369-361f-433d-8e2f-f7d182c3617e",
   "metadata": {},
   "source": [
    "### This is a third level heading\n"
   ]
  },
  {
   "cell_type": "markdown",
   "id": "2a625a7d-eb38-493d-be0a-3e6470f2e0ba",
   "metadata": {},
   "source": [
    "Emphasize text in **boldface** or *italics*"
   ]
  },
  {
   "cell_type": "markdown",
   "id": "b2b0664c-9084-436c-a331-989e181035b6",
   "metadata": {},
   "source": [
    "You can add a link to a [website](https://software-carpentry.org/lessons/)"
   ]
  },
  {
   "cell_type": "markdown",
   "id": "1576cde8-f07f-4f94-90a4-0f839211ba9a",
   "metadata": {},
   "source": [
    "You can add emojis from [this Github repo](https://gist.github.com/rxaviers/7360908)\n",
    "\n",
    "😍 😟 😏"
   ]
  },
  {
   "cell_type": "markdown",
   "id": "0e386ee8-1b55-4b78-a8f1-c75c98cc7004",
   "metadata": {},
   "source": [
    "$\\texttt{Add some latex text and formulae}:$\n",
    "\n",
    "$\\int_{a}^{b} x^{2} \\, dx$\n",
    "\n",
    "$\\mu$ = 30 \n"
   ]
  },
  {
   "cell_type": "markdown",
   "id": "9f15b7e4-3b99-4783-bab8-eae75f20a5e8",
   "metadata": {},
   "source": [
    "You can also add images like this one:\n",
    "\n",
    "![](../../Pictures/swc_blue.png)"
   ]
  },
  {
   "cell_type": "markdown",
   "id": "a82e3aa0-0a79-46c7-b90f-67fa592ce6d0",
   "metadata": {
    "tags": []
   },
   "source": [
    "![](https://apod.nasa.gov/apod/image/2302/Ngc1850_HubbleOzsarac_960.jpg)"
   ]
  },
  {
   "cell_type": "markdown",
   "id": "f1d9ec4f-8359-4846-8e31-21c2f7a5ecb4",
   "metadata": {},
   "source": [
    "## Code Cells"
   ]
  },
  {
   "cell_type": "code",
   "execution_count": 3,
   "id": "2267642b-75c1-46d1-879f-5eae324ff187",
   "metadata": {},
   "outputs": [],
   "source": [
    "a = 1"
   ]
  },
  {
   "cell_type": "markdown",
   "id": "d547d99b-4793-417c-961e-e4f6404105cd",
   "metadata": {},
   "source": [
    "## Variables and Types"
   ]
  },
  {
   "cell_type": "code",
   "execution_count": 4,
   "id": "1b7200ac-5e1e-4e2c-8438-ecec34e4297e",
   "metadata": {},
   "outputs": [],
   "source": [
    "weight_kg = 60"
   ]
  },
  {
   "cell_type": "code",
   "execution_count": 5,
   "id": "02080f48-1f1d-4985-ae00-ea4c0943d554",
   "metadata": {},
   "outputs": [
    {
     "name": "stdout",
     "output_type": "stream",
     "text": [
      "60\n"
     ]
    }
   ],
   "source": [
    "print(weight_kg)"
   ]
  },
  {
   "cell_type": "code",
   "execution_count": 6,
   "id": "0696bc3d-4dfe-4252-89f8-43ae0a307b6d",
   "metadata": {},
   "outputs": [
    {
     "name": "stdout",
     "output_type": "stream",
     "text": [
      "70\n"
     ]
    }
   ],
   "source": [
    "weight_kg0 = 70\n",
    "print(weight_kg0)"
   ]
  },
  {
   "cell_type": "code",
   "execution_count": 7,
   "id": "d717c077-b6ed-45e1-bd23-22820d3323c0",
   "metadata": {},
   "outputs": [
    {
     "ename": "SyntaxError",
     "evalue": "invalid syntax (3379446300.py, line 1)",
     "output_type": "error",
     "traceback": [
      "\u001b[1;36m  File \u001b[1;32m\"C:\\Users\\handrewsmancil\\AppData\\Local\\Temp\\ipykernel_60932\\3379446300.py\"\u001b[1;36m, line \u001b[1;32m1\u001b[0m\n\u001b[1;33m    0weight_kg = 90\u001b[0m\n\u001b[1;37m     ^\u001b[0m\n\u001b[1;31mSyntaxError\u001b[0m\u001b[1;31m:\u001b[0m invalid syntax\n"
     ]
    }
   ],
   "source": [
    "0weight_kg = 90\n",
    "print(0weight_kg)"
   ]
  },
  {
   "cell_type": "code",
   "execution_count": 8,
   "id": "28098565-cd7c-410e-ae34-e1b0785ba4e5",
   "metadata": {},
   "outputs": [
    {
     "name": "stdout",
     "output_type": "stream",
     "text": [
      "100 60\n"
     ]
    }
   ],
   "source": [
    "Weight_kg = 100\n",
    "print(Weight_kg, weight_kg)"
   ]
  },
  {
   "cell_type": "code",
   "execution_count": 9,
   "id": "b102c83e-68ee-4932-ba8a-380050031c3d",
   "metadata": {},
   "outputs": [
    {
     "name": "stdout",
     "output_type": "stream",
     "text": [
      "The weight in kilograms is:  60\n"
     ]
    }
   ],
   "source": [
    "print('The weight in kilograms is: ', weight_kg)"
   ]
  },
  {
   "cell_type": "code",
   "execution_count": 10,
   "id": "a558bfbb-6594-45bf-aa5c-17aa25d1bd49",
   "metadata": {},
   "outputs": [
    {
     "name": "stdout",
     "output_type": "stream",
     "text": [
      "<class 'int'>\n"
     ]
    }
   ],
   "source": [
    "print(type(weight_kg))"
   ]
  },
  {
   "cell_type": "code",
   "execution_count": 11,
   "id": "41370b3c-eff1-4905-95fa-9b02b68f2310",
   "metadata": {},
   "outputs": [
    {
     "name": "stdout",
     "output_type": "stream",
     "text": [
      "2242.325263738745\n",
      "<class 'float'>\n"
     ]
    }
   ],
   "source": [
    "x = 2242.325263738745\n",
    "print(x)\n",
    "print(type(x))"
   ]
  },
  {
   "cell_type": "code",
   "execution_count": 12,
   "id": "33e62137-2495-4ead-bc07-0c0a67d0eec2",
   "metadata": {},
   "outputs": [
    {
     "name": "stdout",
     "output_type": "stream",
     "text": [
      "16575400.0\n",
      "<class 'float'>\n"
     ]
    }
   ],
   "source": [
    "y = 1.65754e+07\n",
    "print(y)\n",
    "print(type(y))"
   ]
  },
  {
   "cell_type": "code",
   "execution_count": 13,
   "id": "019d7d7b-93e1-45a0-9376-df1fcc4cdb29",
   "metadata": {},
   "outputs": [
    {
     "name": "stdout",
     "output_type": "stream",
     "text": [
      "2242.325263738745\n"
     ]
    }
   ],
   "source": [
    "print(x)"
   ]
  },
  {
   "cell_type": "code",
   "execution_count": 14,
   "id": "e27dc22a-df1a-47ee-b4ba-7fc070edc6cb",
   "metadata": {},
   "outputs": [
    {
     "name": "stdout",
     "output_type": "stream",
     "text": [
      "2242\n"
     ]
    }
   ],
   "source": [
    "print(int(x))"
   ]
  },
  {
   "cell_type": "code",
   "execution_count": 15,
   "id": "38049217-bcda-43ac-9f13-f56ab7378d01",
   "metadata": {},
   "outputs": [
    {
     "name": "stdout",
     "output_type": "stream",
     "text": [
      "<class 'int'>\n"
     ]
    }
   ],
   "source": [
    "print(type(int(x)))"
   ]
  },
  {
   "cell_type": "code",
   "execution_count": 16,
   "id": "c0154b49-452d-4e57-86f3-75e7277d03e8",
   "metadata": {},
   "outputs": [
    {
     "name": "stdout",
     "output_type": "stream",
     "text": [
      "2242.325263738745\n",
      "2242\n"
     ]
    }
   ],
   "source": [
    "new_x = int(x)\n",
    "print(x)\n",
    "print(new_x)"
   ]
  },
  {
   "cell_type": "code",
   "execution_count": 17,
   "id": "6e50807f-f1ca-4132-a56c-c138c7ee7660",
   "metadata": {},
   "outputs": [
    {
     "name": "stdout",
     "output_type": "stream",
     "text": [
      "My favourite number is 23\n",
      "<class 'str'>\n"
     ]
    }
   ],
   "source": [
    "phrase = 'My favourite number is 23'\n",
    "print(phrase)\n",
    "print(type(phrase))"
   ]
  },
  {
   "cell_type": "code",
   "execution_count": 18,
   "id": "877b3628-b7b2-4c2f-af15-53f4082baff1",
   "metadata": {},
   "outputs": [
    {
     "name": "stdout",
     "output_type": "stream",
     "text": [
      "... and he said 'waarom niet?'\n",
      "... and he said \"waarom niet?\"\n"
     ]
    }
   ],
   "source": [
    "print(\"... and he said 'waarom niet?'\")\n",
    "print('... and he said \"waarom niet?\"')"
   ]
  },
  {
   "cell_type": "markdown",
   "id": "4abf6b8e-ebeb-4b88-b506-9aaad3563464",
   "metadata": {},
   "source": [
    "## Loading data in Python"
   ]
  },
  {
   "cell_type": "code",
   "execution_count": 19,
   "id": "02da8d90-bc26-4de2-82a2-0b55dad42fff",
   "metadata": {},
   "outputs": [],
   "source": [
    "import numpy"
   ]
  },
  {
   "cell_type": "code",
   "execution_count": 20,
   "id": "41670fd7-1c34-41c6-97c6-147fff0477dc",
   "metadata": {},
   "outputs": [
    {
     "name": "stdout",
     "output_type": "stream",
     "text": [
      "Help on function loadtxt in module numpy:\n",
      "\n",
      "loadtxt(fname, dtype=<class 'float'>, comments='#', delimiter=None, converters=None, skiprows=0, usecols=None, unpack=False, ndmin=0, encoding='bytes', max_rows=None, *, like=None)\n",
      "    Load data from a text file.\n",
      "    \n",
      "    Each row in the text file must have the same number of values.\n",
      "    \n",
      "    Parameters\n",
      "    ----------\n",
      "    fname : file, str, or pathlib.Path\n",
      "        File, filename, or generator to read.  If the filename extension is\n",
      "        ``.gz`` or ``.bz2``, the file is first decompressed. Note that\n",
      "        generators should return byte strings.\n",
      "    dtype : data-type, optional\n",
      "        Data-type of the resulting array; default: float.  If this is a\n",
      "        structured data-type, the resulting array will be 1-dimensional, and\n",
      "        each row will be interpreted as an element of the array.  In this\n",
      "        case, the number of columns used must match the number of fields in\n",
      "        the data-type.\n",
      "    comments : str or sequence of str, optional\n",
      "        The characters or list of characters used to indicate the start of a\n",
      "        comment. None implies no comments. For backwards compatibility, byte\n",
      "        strings will be decoded as 'latin1'. The default is '#'.\n",
      "    delimiter : str, optional\n",
      "        The string used to separate values. For backwards compatibility, byte\n",
      "        strings will be decoded as 'latin1'. The default is whitespace.\n",
      "    converters : dict, optional\n",
      "        A dictionary mapping column number to a function that will parse the\n",
      "        column string into the desired value.  E.g., if column 0 is a date\n",
      "        string: ``converters = {0: datestr2num}``.  Converters can also be\n",
      "        used to provide a default value for missing data (but see also\n",
      "        `genfromtxt`): ``converters = {3: lambda s: float(s.strip() or 0)}``.\n",
      "        Default: None.\n",
      "    skiprows : int, optional\n",
      "        Skip the first `skiprows` lines, including comments; default: 0.\n",
      "    usecols : int or sequence, optional\n",
      "        Which columns to read, with 0 being the first. For example,\n",
      "        ``usecols = (1,4,5)`` will extract the 2nd, 5th and 6th columns.\n",
      "        The default, None, results in all columns being read.\n",
      "    \n",
      "        .. versionchanged:: 1.11.0\n",
      "            When a single column has to be read it is possible to use\n",
      "            an integer instead of a tuple. E.g ``usecols = 3`` reads the\n",
      "            fourth column the same way as ``usecols = (3,)`` would.\n",
      "    unpack : bool, optional\n",
      "        If True, the returned array is transposed, so that arguments may be\n",
      "        unpacked using ``x, y, z = loadtxt(...)``.  When used with a\n",
      "        structured data-type, arrays are returned for each field.\n",
      "        Default is False.\n",
      "    ndmin : int, optional\n",
      "        The returned array will have at least `ndmin` dimensions.\n",
      "        Otherwise mono-dimensional axes will be squeezed.\n",
      "        Legal values: 0 (default), 1 or 2.\n",
      "    \n",
      "        .. versionadded:: 1.6.0\n",
      "    encoding : str, optional\n",
      "        Encoding used to decode the inputfile. Does not apply to input streams.\n",
      "        The special value 'bytes' enables backward compatibility workarounds\n",
      "        that ensures you receive byte arrays as results if possible and passes\n",
      "        'latin1' encoded strings to converters. Override this value to receive\n",
      "        unicode arrays and pass strings as input to converters.  If set to None\n",
      "        the system default is used. The default value is 'bytes'.\n",
      "    \n",
      "        .. versionadded:: 1.14.0\n",
      "    max_rows : int, optional\n",
      "        Read `max_rows` lines of content after `skiprows` lines. The default\n",
      "        is to read all the lines.\n",
      "    \n",
      "        .. versionadded:: 1.16.0\n",
      "    like : array_like\n",
      "        Reference object to allow the creation of arrays which are not\n",
      "        NumPy arrays. If an array-like passed in as ``like`` supports\n",
      "        the ``__array_function__`` protocol, the result will be defined\n",
      "        by it. In this case, it ensures the creation of an array object\n",
      "        compatible with that passed in via this argument.\n",
      "    \n",
      "        .. versionadded:: 1.20.0\n",
      "    \n",
      "    Returns\n",
      "    -------\n",
      "    out : ndarray\n",
      "        Data read from the text file.\n",
      "    \n",
      "    See Also\n",
      "    --------\n",
      "    load, fromstring, fromregex\n",
      "    genfromtxt : Load data with missing values handled as specified.\n",
      "    scipy.io.loadmat : reads MATLAB data files\n",
      "    \n",
      "    Notes\n",
      "    -----\n",
      "    This function aims to be a fast reader for simply formatted files.  The\n",
      "    `genfromtxt` function provides more sophisticated handling of, e.g.,\n",
      "    lines with missing values.\n",
      "    \n",
      "    .. versionadded:: 1.10.0\n",
      "    \n",
      "    The strings produced by the Python float.hex method can be used as\n",
      "    input for floats.\n",
      "    \n",
      "    Examples\n",
      "    --------\n",
      "    >>> from io import StringIO   # StringIO behaves like a file object\n",
      "    >>> c = StringIO(\"0 1\\n2 3\")\n",
      "    >>> np.loadtxt(c)\n",
      "    array([[0., 1.],\n",
      "           [2., 3.]])\n",
      "    \n",
      "    >>> d = StringIO(\"M 21 72\\nF 35 58\")\n",
      "    >>> np.loadtxt(d, dtype={'names': ('gender', 'age', 'weight'),\n",
      "    ...                      'formats': ('S1', 'i4', 'f4')})\n",
      "    array([(b'M', 21, 72.), (b'F', 35, 58.)],\n",
      "          dtype=[('gender', 'S1'), ('age', '<i4'), ('weight', '<f4')])\n",
      "    \n",
      "    >>> c = StringIO(\"1,0,2\\n3,0,4\")\n",
      "    >>> x, y = np.loadtxt(c, delimiter=',', usecols=(0, 2), unpack=True)\n",
      "    >>> x\n",
      "    array([1., 3.])\n",
      "    >>> y\n",
      "    array([2., 4.])\n",
      "    \n",
      "    This example shows how `converters` can be used to convert a field\n",
      "    with a trailing minus sign into a negative number.\n",
      "    \n",
      "    >>> s = StringIO('10.01 31.25-\\n19.22 64.31\\n17.57- 63.94')\n",
      "    >>> def conv(fld):\n",
      "    ...     return -float(fld[:-1]) if fld.endswith(b'-') else float(fld)\n",
      "    ...\n",
      "    >>> np.loadtxt(s, converters={0: conv, 1: conv})\n",
      "    array([[ 10.01, -31.25],\n",
      "           [ 19.22,  64.31],\n",
      "           [-17.57,  63.94]])\n",
      "\n"
     ]
    }
   ],
   "source": [
    "help(numpy.loadtxt)"
   ]
  },
  {
   "cell_type": "code",
   "execution_count": 21,
   "id": "31a4c34d-d2b9-4b30-b4a3-c26ab326cd7a",
   "metadata": {},
   "outputs": [
    {
     "data": {
      "text/plain": [
       "array([[0., 0., 1., ..., 3., 0., 0.],\n",
       "       [0., 1., 2., ..., 1., 0., 1.],\n",
       "       [0., 1., 1., ..., 2., 1., 1.],\n",
       "       ...,\n",
       "       [0., 1., 1., ..., 1., 1., 1.],\n",
       "       [0., 0., 0., ..., 0., 2., 0.],\n",
       "       [0., 0., 1., ..., 1., 1., 0.]])"
      ]
     },
     "execution_count": 21,
     "metadata": {},
     "output_type": "execute_result"
    }
   ],
   "source": [
    "numpy.loadtxt('./data/inflammation-01.csv', delimiter=',')"
   ]
  },
  {
   "cell_type": "code",
   "execution_count": 22,
   "id": "a9016ba8-c866-4e78-947b-f8f99f7f8a45",
   "metadata": {},
   "outputs": [],
   "source": [
    "data = numpy.loadtxt('./data/inflammation-01.csv', delimiter=',')"
   ]
  },
  {
   "cell_type": "code",
   "execution_count": 23,
   "id": "339f1a10-923b-4577-a8aa-51a0b31e2966",
   "metadata": {},
   "outputs": [
    {
     "name": "stdout",
     "output_type": "stream",
     "text": [
      "[[0. 0. 1. ... 3. 0. 0.]\n",
      " [0. 1. 2. ... 1. 0. 1.]\n",
      " [0. 1. 1. ... 2. 1. 1.]\n",
      " ...\n",
      " [0. 1. 1. ... 1. 1. 1.]\n",
      " [0. 0. 0. ... 0. 2. 0.]\n",
      " [0. 0. 1. ... 1. 1. 0.]]\n"
     ]
    }
   ],
   "source": [
    "print(data)"
   ]
  },
  {
   "cell_type": "code",
   "execution_count": 24,
   "id": "ecdf1daf-b6f2-4ab0-886f-e696b72d53b6",
   "metadata": {},
   "outputs": [
    {
     "name": "stdout",
     "output_type": "stream",
     "text": [
      "<class 'numpy.ndarray'>\n"
     ]
    }
   ],
   "source": [
    "print(type(data))"
   ]
  },
  {
   "cell_type": "code",
   "execution_count": 25,
   "id": "751d3301-43e8-4e02-a50f-90cd1744f31b",
   "metadata": {},
   "outputs": [
    {
     "name": "stdout",
     "output_type": "stream",
     "text": [
      "float64\n"
     ]
    }
   ],
   "source": [
    "print(data.dtype)"
   ]
  },
  {
   "cell_type": "code",
   "execution_count": 26,
   "id": "38a9bf78-163a-4701-a8ed-65e5db03e0e9",
   "metadata": {},
   "outputs": [
    {
     "name": "stdout",
     "output_type": "stream",
     "text": [
      "(60, 40)\n"
     ]
    }
   ],
   "source": [
    "print(data.shape)"
   ]
  },
  {
   "cell_type": "code",
   "execution_count": 27,
   "id": "4b5a3e5e-f70a-4daa-9d1a-f6775869f331",
   "metadata": {
    "collapsed": true,
    "jupyter": {
     "outputs_hidden": true
    },
    "tags": []
   },
   "outputs": [
    {
     "data": {
      "text/plain": [
       "['T',\n",
       " '__abs__',\n",
       " '__add__',\n",
       " '__and__',\n",
       " '__array__',\n",
       " '__array_finalize__',\n",
       " '__array_function__',\n",
       " '__array_interface__',\n",
       " '__array_prepare__',\n",
       " '__array_priority__',\n",
       " '__array_struct__',\n",
       " '__array_ufunc__',\n",
       " '__array_wrap__',\n",
       " '__bool__',\n",
       " '__class__',\n",
       " '__complex__',\n",
       " '__contains__',\n",
       " '__copy__',\n",
       " '__deepcopy__',\n",
       " '__delattr__',\n",
       " '__delitem__',\n",
       " '__dir__',\n",
       " '__divmod__',\n",
       " '__doc__',\n",
       " '__eq__',\n",
       " '__float__',\n",
       " '__floordiv__',\n",
       " '__format__',\n",
       " '__ge__',\n",
       " '__getattribute__',\n",
       " '__getitem__',\n",
       " '__gt__',\n",
       " '__hash__',\n",
       " '__iadd__',\n",
       " '__iand__',\n",
       " '__ifloordiv__',\n",
       " '__ilshift__',\n",
       " '__imatmul__',\n",
       " '__imod__',\n",
       " '__imul__',\n",
       " '__index__',\n",
       " '__init__',\n",
       " '__init_subclass__',\n",
       " '__int__',\n",
       " '__invert__',\n",
       " '__ior__',\n",
       " '__ipow__',\n",
       " '__irshift__',\n",
       " '__isub__',\n",
       " '__iter__',\n",
       " '__itruediv__',\n",
       " '__ixor__',\n",
       " '__le__',\n",
       " '__len__',\n",
       " '__lshift__',\n",
       " '__lt__',\n",
       " '__matmul__',\n",
       " '__mod__',\n",
       " '__mul__',\n",
       " '__ne__',\n",
       " '__neg__',\n",
       " '__new__',\n",
       " '__or__',\n",
       " '__pos__',\n",
       " '__pow__',\n",
       " '__radd__',\n",
       " '__rand__',\n",
       " '__rdivmod__',\n",
       " '__reduce__',\n",
       " '__reduce_ex__',\n",
       " '__repr__',\n",
       " '__rfloordiv__',\n",
       " '__rlshift__',\n",
       " '__rmatmul__',\n",
       " '__rmod__',\n",
       " '__rmul__',\n",
       " '__ror__',\n",
       " '__rpow__',\n",
       " '__rrshift__',\n",
       " '__rshift__',\n",
       " '__rsub__',\n",
       " '__rtruediv__',\n",
       " '__rxor__',\n",
       " '__setattr__',\n",
       " '__setitem__',\n",
       " '__setstate__',\n",
       " '__sizeof__',\n",
       " '__str__',\n",
       " '__sub__',\n",
       " '__subclasshook__',\n",
       " '__truediv__',\n",
       " '__xor__',\n",
       " 'all',\n",
       " 'any',\n",
       " 'argmax',\n",
       " 'argmin',\n",
       " 'argpartition',\n",
       " 'argsort',\n",
       " 'astype',\n",
       " 'base',\n",
       " 'byteswap',\n",
       " 'choose',\n",
       " 'clip',\n",
       " 'compress',\n",
       " 'conj',\n",
       " 'conjugate',\n",
       " 'copy',\n",
       " 'ctypes',\n",
       " 'cumprod',\n",
       " 'cumsum',\n",
       " 'data',\n",
       " 'diagonal',\n",
       " 'dot',\n",
       " 'dtype',\n",
       " 'dump',\n",
       " 'dumps',\n",
       " 'fill',\n",
       " 'flags',\n",
       " 'flat',\n",
       " 'flatten',\n",
       " 'getfield',\n",
       " 'imag',\n",
       " 'item',\n",
       " 'itemset',\n",
       " 'itemsize',\n",
       " 'max',\n",
       " 'mean',\n",
       " 'min',\n",
       " 'nbytes',\n",
       " 'ndim',\n",
       " 'newbyteorder',\n",
       " 'nonzero',\n",
       " 'partition',\n",
       " 'prod',\n",
       " 'ptp',\n",
       " 'put',\n",
       " 'ravel',\n",
       " 'real',\n",
       " 'repeat',\n",
       " 'reshape',\n",
       " 'resize',\n",
       " 'round',\n",
       " 'searchsorted',\n",
       " 'setfield',\n",
       " 'setflags',\n",
       " 'shape',\n",
       " 'size',\n",
       " 'sort',\n",
       " 'squeeze',\n",
       " 'std',\n",
       " 'strides',\n",
       " 'sum',\n",
       " 'swapaxes',\n",
       " 'take',\n",
       " 'tobytes',\n",
       " 'tofile',\n",
       " 'tolist',\n",
       " 'tostring',\n",
       " 'trace',\n",
       " 'transpose',\n",
       " 'var',\n",
       " 'view']"
      ]
     },
     "execution_count": 27,
     "metadata": {},
     "output_type": "execute_result"
    }
   ],
   "source": [
    "dir(data)"
   ]
  },
  {
   "cell_type": "code",
   "execution_count": 28,
   "id": "fa58516d-1a14-48fd-9b86-2caa0fea8b39",
   "metadata": {},
   "outputs": [
    {
     "name": "stdout",
     "output_type": "stream",
     "text": [
      "[[0. 0. 1. ... 3. 0. 0.]\n",
      " [0. 1. 2. ... 1. 0. 1.]\n",
      " [0. 1. 1. ... 2. 1. 1.]\n",
      " ...\n",
      " [0. 1. 1. ... 1. 1. 1.]\n",
      " [0. 0. 0. ... 0. 2. 0.]\n",
      " [0. 0. 1. ... 1. 1. 0.]]\n"
     ]
    }
   ],
   "source": [
    "print(data)"
   ]
  },
  {
   "cell_type": "code",
   "execution_count": 29,
   "id": "06a77565-b8cf-4228-bbfe-dd4aff419cbd",
   "metadata": {},
   "outputs": [
    {
     "name": "stdout",
     "output_type": "stream",
     "text": [
      "This is the number of pimples of the first patient on the first day:  0.0\n"
     ]
    }
   ],
   "source": [
    "print(\"This is the number of pimples of the first patient on the first day: \", data[0,0])"
   ]
  },
  {
   "cell_type": "code",
   "execution_count": 30,
   "id": "47d7e92d-bbc0-4ebb-9f0e-a63da7be3c45",
   "metadata": {},
   "outputs": [
    {
     "name": "stdout",
     "output_type": "stream",
     "text": [
      "The number of pimples of the first patient during the first trial:  [ 0.  0.  1.  3.  1.  2.  4.  7.  8.  3.  3.  3. 10.  5.  7.  4.  7.  7.\n",
      " 12. 18.  6. 13. 11. 11.  7.  7.  4.  6.  8.  8.  4.  4.  5.  7.  3.  4.\n",
      "  2.  3.  0.  0.]\n"
     ]
    }
   ],
   "source": [
    "print(\"The number of pimples of the first patient during the first trial: \", data[0, :])"
   ]
  },
  {
   "cell_type": "code",
   "execution_count": 31,
   "id": "aa579430-d338-423a-9c8d-98392a164ecb",
   "metadata": {},
   "outputs": [
    {
     "data": {
      "text/plain": [
       "array([[ 0.,  0.,  1.,  3.,  1.,  2.,  4.,  7.,  8.,  3.,  3.,  3., 10.,\n",
       "         5.,  7.,  4.,  7.,  7., 12., 18.,  6., 13., 11., 11.,  7.,  7.,\n",
       "         4.,  6.,  8.,  8.,  4.,  4.,  5.,  7.,  3.,  4.,  2.,  3.,  0.,\n",
       "         0.],\n",
       "       [ 0.,  1.,  2.,  1.,  2.,  1.,  3.,  2.,  2.,  6., 10., 11.,  5.,\n",
       "         9.,  4.,  4.,  7., 16.,  8.,  6., 18.,  4., 12.,  5., 12.,  7.,\n",
       "        11.,  5., 11.,  3.,  3.,  5.,  4.,  4.,  5.,  5.,  1.,  1.,  0.,\n",
       "         1.]])"
      ]
     },
     "execution_count": 31,
     "metadata": {},
     "output_type": "execute_result"
    }
   ],
   "source": [
    "data[ :2, :]"
   ]
  },
  {
   "cell_type": "code",
   "execution_count": 32,
   "id": "e65d9446-1e75-40a2-9b2f-9f78de82d7e2",
   "metadata": {},
   "outputs": [
    {
     "name": "stdout",
     "output_type": "stream",
     "text": [
      "This is the number of pimples the last patient experiences in trial #1:  [ 0.  0.  1.  0.  3.  2.  5.  4.  8.  2.  9.  3.  3. 10. 12.  9. 14. 11.\n",
      " 13.  8.  6. 18. 11.  9. 13. 11.  8.  5.  5.  2.  8.  5.  3.  5.  4.  1.\n",
      "  3.  1.  1.  0.]\n"
     ]
    }
   ],
   "source": [
    "print(\"This is the number of pimples the last patient experiences in trial #1: \", data[-1, :])"
   ]
  },
  {
   "cell_type": "markdown",
   "id": "c3ed655d-dbe6-4917-99f1-55f0319088d5",
   "metadata": {},
   "source": [
    "## Analyzing data in Python"
   ]
  },
  {
   "cell_type": "code",
   "execution_count": 33,
   "id": "7ef848ef-9e2f-455e-9690-acda79acdb53",
   "metadata": {},
   "outputs": [
    {
     "data": {
      "text/plain": [
       "array([ 0.,  1.,  2.,  3.,  4.,  5.,  6.,  7.,  8.,  9., 10., 11., 12.,\n",
       "       13., 14., 15., 16., 17., 18., 19., 20., 19., 18., 17., 16., 15.,\n",
       "       14., 13., 12., 11., 10.,  9.,  8.,  7.,  6.,  5.,  4.,  3.,  2.,\n",
       "        1.])"
      ]
     },
     "execution_count": 33,
     "metadata": {},
     "output_type": "execute_result"
    }
   ],
   "source": [
    "data.max(axis=0)"
   ]
  },
  {
   "cell_type": "code",
   "execution_count": 34,
   "id": "a14c3adc-6082-4a35-a5c2-486b5554201f",
   "metadata": {},
   "outputs": [
    {
     "name": "stdout",
     "output_type": "stream",
     "text": [
      "<class 'numpy.ndarray'>\n"
     ]
    }
   ],
   "source": [
    "print(type(data.max(axis=0)))"
   ]
  },
  {
   "cell_type": "code",
   "execution_count": 35,
   "id": "f265ab3d-5b4f-40a1-82ee-a733aed94057",
   "metadata": {},
   "outputs": [
    {
     "name": "stdout",
     "output_type": "stream",
     "text": [
      "[ 0.  1.  2.  3.  4.  5.  6.  7.  8.  9. 10. 11. 12. 13. 14. 15. 16. 17.\n",
      " 18. 19. 20. 19. 18. 17. 16. 15. 14. 13. 12. 11. 10.  9.  8.  7.  6.  5.\n",
      "  4.  3.  2.  1.]\n",
      "<class 'numpy.ndarray'>\n",
      "40\n"
     ]
    }
   ],
   "source": [
    "maximum_per_day = data.max(axis=0)\n",
    "print(maximum_per_day)\n",
    "print(type(maximum_per_day))\n",
    "print(len(maximum_per_day))"
   ]
  },
  {
   "cell_type": "code",
   "execution_count": 36,
   "id": "eccceacb-3068-4222-865e-ef0aa4170068",
   "metadata": {},
   "outputs": [
    {
     "name": "stdout",
     "output_type": "stream",
     "text": [
      "[ 0.  1.  2.  3.  4.  5.  6.  7.  8.  9. 10. 11. 12. 13. 14. 15. 16. 17.\n",
      " 18. 19. 20. 19. 18. 17. 16. 15. 14. 13. 12. 11. 10.  9.  8.  7.  6.  5.\n",
      "  4.  3.  2.  1.]\n"
     ]
    }
   ],
   "source": [
    "print(numpy.max(data, axis=0))"
   ]
  },
  {
   "cell_type": "code",
   "execution_count": 37,
   "id": "22a42350-e3f5-4842-a543-49c2c8718c3e",
   "metadata": {},
   "outputs": [
    {
     "name": "stdout",
     "output_type": "stream",
     "text": [
      "[0. 0. 0. 0. 1. 1. 1. 1. 2. 2. 2. 2. 3. 3. 3. 3. 4. 5. 5. 5. 5. 4. 4. 4.\n",
      " 4. 3. 3. 3. 3. 2. 2. 2. 2. 1. 1. 1. 1. 0. 0. 0.]\n",
      "40\n"
     ]
    }
   ],
   "source": [
    "minimum_per_day = data.min(axis=0)\n",
    "print(minimum_per_day)\n",
    "print(len(minimum_per_day))"
   ]
  },
  {
   "cell_type": "markdown",
   "id": "a2ad9cdd-28a7-46ba-82a4-7b849ba52e3f",
   "metadata": {},
   "source": [
    "## Visualizing data in Python"
   ]
  },
  {
   "cell_type": "code",
   "execution_count": 38,
   "id": "6452ee1a-6967-4f45-a794-2594e59be183",
   "metadata": {},
   "outputs": [],
   "source": [
    "import matplotlib.pyplot "
   ]
  },
  {
   "cell_type": "code",
   "execution_count": 39,
   "id": "265af206-a7fa-401d-93ff-610ce397f6fc",
   "metadata": {},
   "outputs": [
    {
     "data": {
      "image/png": "[encoded data removed]",
      "text/plain": [
       "<Figure size 640x480 with 1 Axes>"
      ]
     },
     "metadata": {},
     "output_type": "display_data"
    }
   ],
   "source": [
    "matplotlib.pyplot.imshow(data)\n",
    "matplotlib.pyplot.show()"
   ]
  },
  {
   "cell_type": "markdown",
   "id": "057092a8-f11f-4bb3-bc62-6c05a2c4a7c3",
   "metadata": {},
   "source": [
    "### Nicknames\n",
    "\n",
    "numpy --> np \n",
    "\n",
    "matplotlib.pyplot --> plt\n",
    "\n",
    "pandas --> pd\n",
    "\n",
    "seaborn --> sns\n",
    "\n",
    "tensorflow --> tf\n",
    "...\n"
   ]
  },
  {
   "cell_type": "code",
   "execution_count": 40,
   "id": "7e798dbb-297a-4de7-a221-bc0c0cb6b1d6",
   "metadata": {},
   "outputs": [],
   "source": [
    "import numpy as np\n",
    "import matplotlib.pyplot as plt"
   ]
  },
  {
   "cell_type": "code",
   "execution_count": 41,
   "id": "6b2c8332-f6ae-424a-9fd6-b0b4bf66a7cc",
   "metadata": {},
   "outputs": [
    {
     "data": {
      "image/png": "[encoded data removed]",
      "text/plain": [
       "<Figure size 640x480 with 1 Axes>"
      ]
     },
     "metadata": {},
     "output_type": "display_data"
    }
   ],
   "source": [
    "plt.imshow(data)\n",
    "plt.show()"
   ]
  },
  {
   "cell_type": "code",
   "execution_count": 42,
   "id": "8af12b2b-dd2a-48ac-a0ad-89fec8c68dc5",
   "metadata": {},
   "outputs": [
    {
     "data": {
      "image/png": "[encoded data removed]",
      "text/plain": [
       "<Figure size 640x480 with 2 Axes>"
      ]
     },
     "metadata": {},
     "output_type": "display_data"
    }
   ],
   "source": [
    "plt.imshow(data)\n",
    "plt.colorbar()\n",
    "plt.show()"
   ]
  },
  {
   "cell_type": "code",
   "execution_count": 43,
   "id": "4c0e9b59-647d-41db-bd27-6f01692a3cd6",
   "metadata": {},
   "outputs": [
    {
     "data": {
      "image/png": "[encoded data removed]",
      "text/plain": [
       "<Figure size 640x480 with 2 Axes>"
      ]
     },
     "metadata": {},
     "output_type": "display_data"
    }
   ],
   "source": [
    "plt.imshow(data, cmap='gray')\n",
    "plt.colorbar()\n",
    "plt.show()"
   ]
  },
  {
   "cell_type": "code",
   "execution_count": 45,
   "id": "a688daf1-190d-4a5e-9f61-b113ad19a338",
   "metadata": {},
   "outputs": [
    {
     "data": {
      "image/png": "[encoded data removed]",
      "text/plain": [
       "<Figure size 640x480 with 2 Axes>"
      ]
     },
     "metadata": {},
     "output_type": "display_data"
    }
   ],
   "source": [
    "plt.imshow(data, cmap='Pastel1')\n",
    "plt.colorbar()\n",
    "plt.show()"
   ]
  },
  {
   "cell_type": "code",
   "execution_count": 46,
   "id": "097be175-1563-4832-a220-ca246da06ee5",
   "metadata": {},
   "outputs": [
    {
     "data": {
      "image/png": "[encoded data removed]",
      "text/plain": [
       "<Figure size 640x480 with 2 Axes>"
      ]
     },
     "metadata": {},
     "output_type": "display_data"
    }
   ],
   "source": [
    "plt.imshow(data, cmap='Pastel1')\n",
    "plt.colorbar(label='Number of pimples')\n",
    "plt.xlabel('Days')\n",
    "plt.ylabel('Patients')\n",
    "plt.title('inflammation-01')\n",
    "plt.show()"
   ]
  },
  {
   "cell_type": "code",
   "execution_count": 47,
   "id": "f802b2d2-f0f0-4b89-b0a4-b6483309065a",
   "metadata": {},
   "outputs": [
    {
     "name": "stdout",
     "output_type": "stream",
     "text": [
      "[ 0.  1.  2.  3.  4.  5.  6.  7.  8.  9. 10. 11. 12. 13. 14. 15. 16. 17.\n",
      " 18. 19. 20. 19. 18. 17. 16. 15. 14. 13. 12. 11. 10.  9.  8.  7.  6.  5.\n",
      "  4.  3.  2.  1.]\n"
     ]
    }
   ],
   "source": [
    "print(maximum_per_day)"
   ]
  },
  {
   "cell_type": "code",
   "execution_count": 48,
   "id": "e5e4474c-700b-41ae-ba96-2bac857d8041",
   "metadata": {},
   "outputs": [
    {
     "data": {
      "image/png": "[encoded data removed]",
      "text/plain": [
       "<Figure size 640x480 with 1 Axes>"
      ]
     },
     "metadata": {},
     "output_type": "display_data"
    }
   ],
   "source": [
    "plt.plot(maximum_per_day)\n",
    "plt.show()"
   ]
  },
  {
   "cell_type": "code",
   "execution_count": 49,
   "id": "0ed58f05-2da8-4759-a950-e6136e241a7f",
   "metadata": {},
   "outputs": [
    {
     "data": {
      "image/png": "[encoded data removed]",
      "text/plain": [
       "<Figure size 640x480 with 1 Axes>"
      ]
     },
     "metadata": {},
     "output_type": "display_data"
    }
   ],
   "source": [
    "plt.plot(maximum_per_day, '-o', color='red')\n",
    "plt.xlabel('Days')\n",
    "plt.ylabel('Maximum number of pimples per day')\n",
    "plt.title('inflammation-01')\n",
    "plt.savefig('./data/Maximum_Per_Day_01.png')\n",
    "plt.show()"
   ]
  },
  {
   "cell_type": "markdown",
   "id": "e4aac899-461f-41ba-9feb-080cdea3aefc",
   "metadata": {},
   "source": [
    "## Customizing visualizations"
   ]
  },
  {
   "cell_type": "markdown",
   "id": "e1cd7941-28e6-4689-b80a-d8a642949b44",
   "metadata": {},
   "source": [
    "There are three ways of customizing plots:\n",
    "1) plot by plot (changing things in each cell)  \n",
    "2) rcParams\n",
    "3) stylesheet\n",
    "\n",
    "\n",
    "### rcParams"
   ]
  },
  {
   "cell_type": "code",
   "execution_count": 50,
   "id": "2b649281-e620-420d-840a-629671066de7",
   "metadata": {},
   "outputs": [],
   "source": [
    "import matplotlib as mpl"
   ]
  },
  {
   "cell_type": "code",
   "execution_count": 51,
   "id": "ffee5a85-41a3-487d-bb7b-de09f0f6ec76",
   "metadata": {},
   "outputs": [
    {
     "data": {
      "text/plain": [
       "'C:\\\\Users\\\\handrewsmancil\\\\Anaconda3\\\\lib\\\\site-packages\\\\matplotlib\\\\mpl-data\\\\matplotlibrc'"
      ]
     },
     "execution_count": 51,
     "metadata": {},
     "output_type": "execute_result"
    }
   ],
   "source": [
    "mpl.matplotlib_fname()"
   ]
  },
  {
   "cell_type": "code",
   "execution_count": 52,
   "id": "f5ce1a9c-3032-4131-92e5-6c4a052430e4",
   "metadata": {},
   "outputs": [
    {
     "name": "stdout",
     "output_type": "stream",
     "text": [
      "_internal.classic_mode: False\n",
      "agg.path.chunksize: 0\n",
      "animation.bitrate: -1\n",
      "animation.codec: h264\n",
      "animation.convert_args: []\n",
      "animation.convert_path: convert\n",
      "animation.embed_limit: 20.0\n",
      "animation.ffmpeg_args: []\n",
      "animation.ffmpeg_path: ffmpeg\n",
      "animation.frame_format: png\n",
      "animation.html: none\n",
      "animation.writer: ffmpeg\n",
      "axes.autolimit_mode: data\n",
      "axes.axisbelow: line\n",
      "axes.edgecolor: black\n",
      "axes.facecolor: white\n",
      "axes.formatter.limits: [-5, 6]\n",
      "axes.formatter.min_exponent: 0\n",
      "axes.formatter.offset_threshold: 4\n",
      "axes.formatter.use_locale: False\n",
      "axes.formatter.use_mathtext: False\n",
      "axes.formatter.useoffset: True\n",
      "axes.grid: False\n",
      "axes.grid.axis: both\n",
      "axes.grid.which: major\n",
      "axes.labelcolor: black\n",
      "axes.labelpad: 4.0\n",
      "axes.labelsize: medium\n",
      "axes.labelweight: normal\n",
      "axes.linewidth: 0.8\n",
      "axes.prop_cycle: cycler('color', ['#1f77b4', '#ff7f0e', '#2ca02c', '#d62728', '#9467bd', '#8c564b', '#e377c2', '#7f7f7f', '#bcbd22', '#17becf'])\n",
      "axes.spines.bottom: True\n",
      "axes.spines.left: True\n",
      "axes.spines.right: True\n",
      "axes.spines.top: True\n",
      "axes.titlecolor: auto\n",
      "axes.titlelocation: center\n",
      "axes.titlepad: 6.0\n",
      "axes.titlesize: large\n",
      "axes.titleweight: normal\n",
      "axes.titley: None\n",
      "axes.unicode_minus: True\n",
      "axes.xmargin: 0.05\n",
      "axes.ymargin: 0.05\n",
      "axes.zmargin: 0.05\n",
      "axes3d.grid: True\n",
      "backend: module://matplotlib_inline.backend_inline\n",
      "backend_fallback: True\n",
      "boxplot.bootstrap: None\n",
      "boxplot.boxprops.color: black\n",
      "boxplot.boxprops.linestyle: -\n",
      "boxplot.boxprops.linewidth: 1.0\n",
      "boxplot.capprops.color: black\n",
      "boxplot.capprops.linestyle: -\n",
      "boxplot.capprops.linewidth: 1.0\n",
      "boxplot.flierprops.color: black\n",
      "boxplot.flierprops.linestyle: none\n",
      "boxplot.flierprops.linewidth: 1.0\n",
      "boxplot.flierprops.marker: o\n",
      "boxplot.flierprops.markeredgecolor: black\n",
      "boxplot.flierprops.markeredgewidth: 1.0\n",
      "boxplot.flierprops.markerfacecolor: none\n",
      "boxplot.flierprops.markersize: 6.0\n",
      "boxplot.meanline: False\n",
      "boxplot.meanprops.color: C2\n",
      "boxplot.meanprops.linestyle: --\n",
      "boxplot.meanprops.linewidth: 1.0\n",
      "boxplot.meanprops.marker: ^\n",
      "boxplot.meanprops.markeredgecolor: C2\n",
      "boxplot.meanprops.markerfacecolor: C2\n",
      "boxplot.meanprops.markersize: 6.0\n",
      "boxplot.medianprops.color: C1\n",
      "boxplot.medianprops.linestyle: -\n",
      "boxplot.medianprops.linewidth: 1.0\n",
      "boxplot.notch: False\n",
      "boxplot.patchartist: False\n",
      "boxplot.showbox: True\n",
      "boxplot.showcaps: True\n",
      "boxplot.showfliers: True\n",
      "boxplot.showmeans: False\n",
      "boxplot.vertical: True\n",
      "boxplot.whiskerprops.color: black\n",
      "boxplot.whiskerprops.linestyle: -\n",
      "boxplot.whiskerprops.linewidth: 1.0\n",
      "boxplot.whiskers: 1.5\n",
      "contour.corner_mask: True\n",
      "contour.linewidth: None\n",
      "contour.negative_linestyle: dashed\n",
      "date.autoformatter.day: %Y-%m-%d\n",
      "date.autoformatter.hour: %m-%d %H\n",
      "date.autoformatter.microsecond: %M:%S.%f\n",
      "date.autoformatter.minute: %d %H:%M\n",
      "date.autoformatter.month: %Y-%m\n",
      "date.autoformatter.second: %H:%M:%S\n",
      "date.autoformatter.year: %Y\n",
      "date.converter: auto\n",
      "date.epoch: 1970-01-01T00:00:00\n",
      "date.interval_multiples: True\n",
      "docstring.hardcopy: False\n",
      "errorbar.capsize: 0.0\n",
      "figure.autolayout: False\n",
      "figure.constrained_layout.h_pad: 0.04167\n",
      "figure.constrained_layout.hspace: 0.02\n",
      "figure.constrained_layout.use: False\n",
      "figure.constrained_layout.w_pad: 0.04167\n",
      "figure.constrained_layout.wspace: 0.02\n",
      "figure.dpi: 100.0\n",
      "figure.edgecolor: white\n",
      "figure.facecolor: white\n",
      "figure.figsize: [6.4, 4.8]\n",
      "figure.frameon: True\n",
      "figure.max_open_warning: 20\n",
      "figure.raise_window: True\n",
      "figure.subplot.bottom: 0.11\n",
      "figure.subplot.hspace: 0.2\n",
      "figure.subplot.left: 0.125\n",
      "figure.subplot.right: 0.9\n",
      "figure.subplot.top: 0.88\n",
      "figure.subplot.wspace: 0.2\n",
      "figure.titlesize: large\n",
      "figure.titleweight: normal\n",
      "font.cursive: ['Apple Chancery', 'Textile', 'Zapf Chancery', 'Sand', 'Script MT', 'Felipa', 'Comic Neue', 'Comic Sans MS', 'cursive']\n",
      "font.family: ['sans-serif']\n",
      "font.fantasy: ['Chicago', 'Charcoal', 'Impact', 'Western', 'Humor Sans', 'xkcd', 'fantasy']\n",
      "font.monospace: ['DejaVu Sans Mono', 'Bitstream Vera Sans Mono', 'Computer Modern Typewriter', 'Andale Mono', 'Nimbus Mono L', 'Courier New', 'Courier', 'Fixed', 'Terminal', 'monospace']\n",
      "font.sans-serif: ['DejaVu Sans', 'Bitstream Vera Sans', 'Computer Modern Sans Serif', 'Lucida Grande', 'Verdana', 'Geneva', 'Lucid', 'Arial', 'Helvetica', 'Avant Garde', 'sans-serif']\n",
      "font.serif: ['DejaVu Serif', 'Bitstream Vera Serif', 'Computer Modern Roman', 'New Century Schoolbook', 'Century Schoolbook L', 'Utopia', 'ITC Bookman', 'Bookman', 'Nimbus Roman No9 L', 'Times New Roman', 'Times', 'Palatino', 'Charter', 'serif']\n",
      "font.size: 10.0\n",
      "font.stretch: normal\n",
      "font.style: normal\n",
      "font.variant: normal\n",
      "font.weight: normal\n",
      "grid.alpha: 1.0\n",
      "grid.color: #b0b0b0\n",
      "grid.linestyle: -\n",
      "grid.linewidth: 0.8\n",
      "hatch.color: black\n",
      "hatch.linewidth: 1.0\n",
      "hist.bins: 10\n",
      "image.aspect: equal\n",
      "image.cmap: viridis\n",
      "image.composite_image: True\n",
      "image.interpolation: antialiased\n",
      "image.lut: 256\n",
      "image.origin: upper\n",
      "image.resample: True\n",
      "interactive: True\n",
      "keymap.back: ['left', 'c', 'backspace', 'MouseButton.BACK']\n",
      "keymap.copy: ['ctrl+c', 'cmd+c']\n",
      "keymap.forward: ['right', 'v', 'MouseButton.FORWARD']\n",
      "keymap.fullscreen: ['f', 'ctrl+f']\n",
      "keymap.grid: ['g']\n",
      "keymap.grid_minor: ['G']\n",
      "keymap.help: ['f1']\n",
      "keymap.home: ['h', 'r', 'home']\n",
      "keymap.pan: ['p']\n",
      "keymap.quit: ['ctrl+w', 'cmd+w', 'q']\n",
      "keymap.quit_all: []\n",
      "keymap.save: ['s', 'ctrl+s']\n",
      "keymap.xscale: ['k', 'L']\n",
      "keymap.yscale: ['l']\n",
      "keymap.zoom: ['o']\n",
      "legend.borderaxespad: 0.5\n",
      "legend.borderpad: 0.4\n",
      "legend.columnspacing: 2.0\n",
      "legend.edgecolor: 0.8\n",
      "legend.facecolor: inherit\n",
      "legend.fancybox: True\n",
      "legend.fontsize: medium\n",
      "legend.framealpha: 0.8\n",
      "legend.frameon: True\n",
      "legend.handleheight: 0.7\n",
      "legend.handlelength: 2.0\n",
      "legend.handletextpad: 0.8\n",
      "legend.labelcolor: None\n",
      "legend.labelspacing: 0.5\n",
      "legend.loc: best\n",
      "legend.markerscale: 1.0\n",
      "legend.numpoints: 1\n",
      "legend.scatterpoints: 1\n",
      "legend.shadow: False\n",
      "legend.title_fontsize: None\n",
      "lines.antialiased: True\n",
      "lines.color: C0\n",
      "lines.dash_capstyle: butt\n",
      "lines.dash_joinstyle: round\n",
      "lines.dashdot_pattern: [6.4, 1.6, 1.0, 1.6]\n",
      "lines.dashed_pattern: [3.7, 1.6]\n",
      "lines.dotted_pattern: [1.0, 1.65]\n",
      "lines.linestyle: -\n",
      "lines.linewidth: 1.5\n",
      "lines.marker: None\n",
      "lines.markeredgecolor: auto\n",
      "lines.markeredgewidth: 1.0\n",
      "lines.markerfacecolor: auto\n",
      "lines.markersize: 6.0\n",
      "lines.scale_dashes: True\n",
      "lines.solid_capstyle: projecting\n",
      "lines.solid_joinstyle: round\n",
      "markers.fillstyle: full\n",
      "mathtext.bf: sans:bold\n",
      "mathtext.cal: cursive\n",
      "mathtext.default: it\n",
      "mathtext.fallback: cm\n",
      "mathtext.fontset: dejavusans\n",
      "mathtext.it: sans:italic\n",
      "mathtext.rm: sans\n",
      "mathtext.sf: sans\n",
      "mathtext.tt: monospace\n",
      "patch.antialiased: True\n",
      "patch.edgecolor: black\n",
      "patch.facecolor: C0\n",
      "patch.force_edgecolor: False\n",
      "patch.linewidth: 1.0\n",
      "path.effects: []\n",
      "path.simplify: True\n",
      "path.simplify_threshold: 0.111111111111\n",
      "path.sketch: None\n",
      "path.snap: True\n",
      "pcolor.shading: auto\n",
      "pcolormesh.snap: True\n",
      "pdf.compression: 6\n",
      "pdf.fonttype: 3\n",
      "pdf.inheritcolor: False\n",
      "pdf.use14corefonts: False\n",
      "pgf.preamble: \n",
      "pgf.rcfonts: True\n",
      "pgf.texsystem: xelatex\n",
      "polaraxes.grid: True\n",
      "ps.distiller.res: 6000\n",
      "ps.fonttype: 3\n",
      "ps.papersize: letter\n",
      "ps.useafm: False\n",
      "ps.usedistiller: None\n",
      "savefig.bbox: None\n",
      "savefig.directory: ~\n",
      "savefig.dpi: figure\n",
      "savefig.edgecolor: auto\n",
      "savefig.facecolor: auto\n",
      "savefig.format: png\n",
      "savefig.orientation: portrait\n",
      "savefig.pad_inches: 0.1\n",
      "savefig.transparent: False\n",
      "scatter.edgecolors: face\n",
      "scatter.marker: o\n",
      "svg.fonttype: path\n",
      "svg.hashsalt: None\n",
      "svg.image_inline: True\n",
      "text.antialiased: True\n",
      "text.color: black\n",
      "text.hinting: force_autohint\n",
      "text.hinting_factor: 8\n",
      "text.kerning_factor: 0\n",
      "text.latex.preamble: \n",
      "text.usetex: False\n",
      "timezone: UTC\n",
      "tk.window_focus: False\n",
      "toolbar: toolbar2\n",
      "webagg.address: 127.0.0.1\n",
      "webagg.open_in_browser: True\n",
      "webagg.port: 8988\n",
      "webagg.port_retries: 50\n",
      "xaxis.labellocation: center\n",
      "xtick.alignment: center\n",
      "xtick.bottom: True\n",
      "xtick.color: black\n",
      "xtick.direction: out\n",
      "xtick.labelbottom: True\n",
      "xtick.labelcolor: inherit\n",
      "xtick.labelsize: medium\n",
      "xtick.labeltop: False\n",
      "xtick.major.bottom: True\n",
      "xtick.major.pad: 3.5\n",
      "xtick.major.size: 3.5\n",
      "xtick.major.top: True\n",
      "xtick.major.width: 0.8\n",
      "xtick.minor.bottom: True\n",
      "xtick.minor.pad: 3.4\n",
      "xtick.minor.size: 2.0\n",
      "xtick.minor.top: True\n",
      "xtick.minor.visible: False\n",
      "xtick.minor.width: 0.6\n",
      "xtick.top: False\n",
      "yaxis.labellocation: center\n",
      "ytick.alignment: center_baseline\n",
      "ytick.color: black\n",
      "ytick.direction: out\n",
      "ytick.labelcolor: inherit\n",
      "ytick.labelleft: True\n",
      "ytick.labelright: False\n",
      "ytick.labelsize: medium\n",
      "ytick.left: True\n",
      "ytick.major.left: True\n",
      "ytick.major.pad: 3.5\n",
      "ytick.major.right: True\n",
      "ytick.major.size: 3.5\n",
      "ytick.major.width: 0.8\n",
      "ytick.minor.left: True\n",
      "ytick.minor.pad: 3.4\n",
      "ytick.minor.right: True\n",
      "ytick.minor.size: 2.0\n",
      "ytick.minor.visible: False\n",
      "ytick.minor.width: 0.6\n",
      "ytick.right: False\n"
     ]
    }
   ],
   "source": [
    "print(plt.rcParams)"
   ]
  },
  {
   "cell_type": "code",
   "execution_count": 53,
   "id": "18196fd2-4406-4215-bc45-1050546ac142",
   "metadata": {},
   "outputs": [
    {
     "name": "stdout",
     "output_type": "stream",
     "text": [
      "<class 'matplotlib.RcParams'>\n"
     ]
    }
   ],
   "source": [
    "print(type(plt.rcParams))"
   ]
  },
  {
   "cell_type": "code",
   "execution_count": 54,
   "id": "714beec1-11f1-472e-9daa-667efb6d35f7",
   "metadata": {},
   "outputs": [
    {
     "name": "stdout",
     "output_type": "stream",
     "text": [
      "10.0\n"
     ]
    }
   ],
   "source": [
    "print(plt.rcParams['font.size'])"
   ]
  },
  {
   "cell_type": "code",
   "execution_count": 55,
   "id": "7f6d04c6-2797-4a57-ace8-5fe8cee87d0c",
   "metadata": {},
   "outputs": [],
   "source": [
    "plt.rcParams['font.size'] = 14.0"
   ]
  },
  {
   "cell_type": "code",
   "execution_count": 56,
   "id": "3bd3bef6-2d87-4695-b6ac-904bfe159cde",
   "metadata": {},
   "outputs": [
    {
     "data": {
      "image/png": "[encoded data removed]",
      "text/plain": [
       "<Figure size 640x480 with 1 Axes>"
      ]
     },
     "metadata": {},
     "output_type": "display_data"
    }
   ],
   "source": [
    "plt.plot(data.max(axis=0), '-o', color='red')\n",
    "plt.xlabel('Days')\n",
    "plt.ylabel('Maximum number of pimples per day')\n",
    "plt.show()"
   ]
  },
  {
   "cell_type": "markdown",
   "id": "aeba3ef9-c71a-43db-a850-d5e100f8fdc8",
   "metadata": {},
   "source": [
    "### Stylesheet"
   ]
  },
  {
   "cell_type": "code",
   "execution_count": 57,
   "id": "e64eb222-bd6c-4e53-9786-7b80aa850e31",
   "metadata": {},
   "outputs": [
    {
     "data": {
      "text/plain": [
       "['Solarize_Light2',\n",
       " '_classic_test_patch',\n",
       " '_mpl-gallery',\n",
       " '_mpl-gallery-nogrid',\n",
       " 'bmh',\n",
       " 'classic',\n",
       " 'dark_background',\n",
       " 'fast',\n",
       " 'fivethirtyeight',\n",
       " 'ggplot',\n",
       " 'grayscale',\n",
       " 'seaborn',\n",
       " 'seaborn-bright',\n",
       " 'seaborn-colorblind',\n",
       " 'seaborn-dark',\n",
       " 'seaborn-dark-palette',\n",
       " 'seaborn-darkgrid',\n",
       " 'seaborn-deep',\n",
       " 'seaborn-muted',\n",
       " 'seaborn-notebook',\n",
       " 'seaborn-paper',\n",
       " 'seaborn-pastel',\n",
       " 'seaborn-poster',\n",
       " 'seaborn-talk',\n",
       " 'seaborn-ticks',\n",
       " 'seaborn-white',\n",
       " 'seaborn-whitegrid',\n",
       " 'tableau-colorblind10']"
      ]
     },
     "execution_count": 57,
     "metadata": {},
     "output_type": "execute_result"
    }
   ],
   "source": [
    "plt.style.available"
   ]
  },
  {
   "cell_type": "code",
   "execution_count": 62,
   "id": "0ec04d7e-d985-446c-928d-b82db6020501",
   "metadata": {},
   "outputs": [],
   "source": [
    "plt.style.use('dark_background')"
   ]
  },
  {
   "cell_type": "code",
   "execution_count": 63,
   "id": "d4c5ed75-b47b-44bb-ae2f-a2efde516260",
   "metadata": {},
   "outputs": [
    {
     "data": {
      "image/png": "[encoded data removed]",
      "text/plain": [
       "<Figure size 640x480 with 2 Axes>"
      ]
     },
     "metadata": {},
     "output_type": "display_data"
    }
   ],
   "source": [
    "plt.imshow(data, cmap='Pastel1')\n",
    "plt.colorbar(label='Maximum number of pimples')\n",
    "plt.xlabel('Days')\n",
    "plt.ylabel('Patients')\n",
    "plt.title('inflammation-01')\n",
    "plt.show()"
   ]
  },
  {
   "cell_type": "code",
   "execution_count": 64,
   "id": "eeecba05-54fd-4cb3-9eb4-4915b872746f",
   "metadata": {},
   "outputs": [],
   "source": [
    "plt.style.use('default')"
   ]
  },
  {
   "cell_type": "code",
   "execution_count": null,
   "id": "73108ae0-f503-4b12-b93b-01af41c121f7",
   "metadata": {},
   "outputs": [],
   "source": [
    "fig = plt.figure(figsize=(10,3))\n",
    "\n",
    "axes1 = fig.add_subplot(1,3,1)\n",
    "axes2 = fig.add_subplot(1,3,2)\n",
    "axes3 = fig.add_subplot(1,3,3)\n",
    "\n",
    "axes1.plot(data.max(axis=0), '-o', color='red')\n",
    "axes2.plot(data.min(axis=0), '-o', color='blue')\n",
    "axes3.plot(data.mean(axis=0), '-o', color='green')\n",
    "\n",
    "axes1.set_ylabel('Maximum')\n",
    "axes2.set_ylabel('Minimum')\n",
    "axes3.set_ylabel('Mean')\n",
    "\n",
    "\n"
   ]
  }
 ],
 "metadata": {
  "kernelspec": {
   "display_name": "Python 3 (ipykernel)",
   "language": "python",
   "name": "python3"
  },
  "language_info": {
   "codemirror_mode": {
    "name": "ipython",
    "version": 3
   },
   "file_extension": ".py",
   "mimetype": "text/x-python",
   "name": "python",
   "nbconvert_exporter": "python",
   "pygments_lexer": "ipython3",
   "version": "3.9.13"
  }
 },
 "nbformat": 4,
 "nbformat_minor": 5
}
