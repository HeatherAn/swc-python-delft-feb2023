{
 "cells": [
  {
   "cell_type": "markdown",
   "id": "e97ad709-afa0-465b-a519-6a35a5b41184",
   "metadata": {},
   "source": [
    "# SWC Python Day 1"
   ]
  },
  {
   "cell_type": "markdown",
   "id": "5efceb2c-54ff-4ae4-99e2-5569b48bb53a",
   "metadata": {},
   "source": [
    "## This is a second level heading"
   ]
  },
  {
   "cell_type": "markdown",
   "id": "c11b4369-361f-433d-8e2f-f7d182c3617e",
   "metadata": {},
   "source": [
    "### This is a third level heading\n"
   ]
  },
  {
   "cell_type": "markdown",
   "id": "2a625a7d-eb38-493d-be0a-3e6470f2e0ba",
   "metadata": {},
   "source": [
    "Emphasize text in **boldface** or *italics*"
   ]
  },
  {
   "cell_type": "markdown",
   "id": "b2b0664c-9084-436c-a331-989e181035b6",
   "metadata": {},
   "source": [
    "You can add a link to a [website](https://software-carpentry.org/lessons/)"
   ]
  },
  {
   "cell_type": "markdown",
   "id": "1576cde8-f07f-4f94-90a4-0f839211ba9a",
   "metadata": {},
   "source": [
    "You can add emojis from [this Github repo](https://gist.github.com/rxaviers/7360908)\n",
    "\n",
    "😍 😟"
   ]
  },
  {
   "cell_type": "code",
   "execution_count": null,
   "id": "97709ca8-07dc-4799-b6a3-a9600e58f255",
   "metadata": {},
   "outputs": [],
   "source": []
  }
 ],
 "metadata": {
  "kernelspec": {
   "display_name": "Python 3 (ipykernel)",
   "language": "python",
   "name": "python3"
  },
  "language_info": {
   "codemirror_mode": {
    "name": "ipython",
    "version": 3
   },
   "file_extension": ".py",
   "mimetype": "text/x-python",
   "name": "python",
   "nbconvert_exporter": "python",
   "pygments_lexer": "ipython3",
   "version": "3.9.13"
  }
 },
 "nbformat": 4,
 "nbformat_minor": 5
}
