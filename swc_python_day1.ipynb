{
 "cells": [
  {
   "cell_type": "markdown",
   "id": "e97ad709-afa0-465b-a519-6a35a5b41184",
   "metadata": {},
   "source": [
    "# SWC Python Day 1"
   ]
  },
  {
   "cell_type": "markdown",
   "id": "5efceb2c-54ff-4ae4-99e2-5569b48bb53a",
   "metadata": {},
   "source": [
    "## This is a second level heading"
   ]
  },
  {
   "cell_type": "markdown",
   "id": "c11b4369-361f-433d-8e2f-f7d182c3617e",
   "metadata": {},
   "source": [
    "### This is a third level heading\n"
   ]
  },
  {
   "cell_type": "markdown",
   "id": "2a625a7d-eb38-493d-be0a-3e6470f2e0ba",
   "metadata": {},
   "source": [
    "Emphasize text in **boldface** or *italics*"
   ]
  },
  {
   "cell_type": "markdown",
   "id": "b2b0664c-9084-436c-a331-989e181035b6",
   "metadata": {},
   "source": [
    "You can add a link to a [website](https://software-carpentry.org/lessons/)"
   ]
  },
  {
   "cell_type": "markdown",
   "id": "1576cde8-f07f-4f94-90a4-0f839211ba9a",
   "metadata": {},
   "source": [
    "You can add emojis from [this Github repo](https://gist.github.com/rxaviers/7360908)\n",
    "\n",
    "😍 😟 😏"
   ]
  },
  {
   "cell_type": "markdown",
   "id": "0e386ee8-1b55-4b78-a8f1-c75c98cc7004",
   "metadata": {},
   "source": [
    "$\\texttt{Add some latex text and formulae}:$\n",
    "\n",
    "$\\int_{a}^{b} x^{2} \\, dx$\n",
    "\n",
    "$\\mu$ = 30 \n"
   ]
  },
  {
   "cell_type": "markdown",
   "id": "9f15b7e4-3b99-4783-bab8-eae75f20a5e8",
   "metadata": {},
   "source": [
    "You can also add images like this one:\n",
    "\n",
    "![](../../Pictures/swc_blue.png)"
   ]
  },
  {
   "cell_type": "markdown",
   "id": "a82e3aa0-0a79-46c7-b90f-67fa592ce6d0",
   "metadata": {
    "tags": []
   },
   "source": [
    "![](https://apod.nasa.gov/apod/image/2302/Ngc1850_HubbleOzsarac_960.jpg)"
   ]
  },
  {
   "cell_type": "markdown",
   "id": "f1d9ec4f-8359-4846-8e31-21c2f7a5ecb4",
   "metadata": {},
   "source": [
    "## Code Cells"
   ]
  },
  {
   "cell_type": "code",
   "execution_count": 3,
   "id": "2267642b-75c1-46d1-879f-5eae324ff187",
   "metadata": {},
   "outputs": [],
   "source": [
    "a = 1"
   ]
  },
  {
   "cell_type": "markdown",
   "id": "d547d99b-4793-417c-961e-e4f6404105cd",
   "metadata": {},
   "source": [
    "## Variables and Types"
   ]
  },
  {
   "cell_type": "code",
   "execution_count": 4,
   "id": "1b7200ac-5e1e-4e2c-8438-ecec34e4297e",
   "metadata": {},
   "outputs": [],
   "source": [
    "weight_kg = 60"
   ]
  },
  {
   "cell_type": "code",
   "execution_count": 5,
   "id": "02080f48-1f1d-4985-ae00-ea4c0943d554",
   "metadata": {},
   "outputs": [
    {
     "name": "stdout",
     "output_type": "stream",
     "text": [
      "60\n"
     ]
    }
   ],
   "source": [
    "print(weight_kg)"
   ]
  },
  {
   "cell_type": "code",
   "execution_count": 6,
   "id": "0696bc3d-4dfe-4252-89f8-43ae0a307b6d",
   "metadata": {},
   "outputs": [
    {
     "name": "stdout",
     "output_type": "stream",
     "text": [
      "70\n"
     ]
    }
   ],
   "source": [
    "weight_kg0 = 70\n",
    "print(weight_kg0)"
   ]
  },
  {
   "cell_type": "code",
   "execution_count": 7,
   "id": "d717c077-b6ed-45e1-bd23-22820d3323c0",
   "metadata": {},
   "outputs": [
    {
     "ename": "SyntaxError",
     "evalue": "invalid syntax (3379446300.py, line 1)",
     "output_type": "error",
     "traceback": [
      "\u001b[1;36m  File \u001b[1;32m\"C:\\Users\\handrewsmancil\\AppData\\Local\\Temp\\ipykernel_60932\\3379446300.py\"\u001b[1;36m, line \u001b[1;32m1\u001b[0m\n\u001b[1;33m    0weight_kg = 90\u001b[0m\n\u001b[1;37m     ^\u001b[0m\n\u001b[1;31mSyntaxError\u001b[0m\u001b[1;31m:\u001b[0m invalid syntax\n"
     ]
    }
   ],
   "source": [
    "0weight_kg = 90\n",
    "print(0weight_kg)"
   ]
  },
  {
   "cell_type": "code",
   "execution_count": 8,
   "id": "28098565-cd7c-410e-ae34-e1b0785ba4e5",
   "metadata": {},
   "outputs": [
    {
     "name": "stdout",
     "output_type": "stream",
     "text": [
      "100 60\n"
     ]
    }
   ],
   "source": [
    "Weight_kg = 100\n",
    "print(Weight_kg, weight_kg)"
   ]
  },
  {
   "cell_type": "code",
   "execution_count": 9,
   "id": "b102c83e-68ee-4932-ba8a-380050031c3d",
   "metadata": {},
   "outputs": [
    {
     "name": "stdout",
     "output_type": "stream",
     "text": [
      "The weight in kilograms is:  60\n"
     ]
    }
   ],
   "source": [
    "print('The weight in kilograms is: ', weight_kg)"
   ]
  },
  {
   "cell_type": "code",
   "execution_count": 10,
   "id": "a558bfbb-6594-45bf-aa5c-17aa25d1bd49",
   "metadata": {},
   "outputs": [
    {
     "name": "stdout",
     "output_type": "stream",
     "text": [
      "<class 'int'>\n"
     ]
    }
   ],
   "source": [
    "print(type(weight_kg))"
   ]
  },
  {
   "cell_type": "code",
   "execution_count": 11,
   "id": "41370b3c-eff1-4905-95fa-9b02b68f2310",
   "metadata": {},
   "outputs": [
    {
     "name": "stdout",
     "output_type": "stream",
     "text": [
      "2242.325263738745\n",
      "<class 'float'>\n"
     ]
    }
   ],
   "source": [
    "x = 2242.325263738745\n",
    "print(x)\n",
    "print(type(x))"
   ]
  },
  {
   "cell_type": "code",
   "execution_count": 12,
   "id": "33e62137-2495-4ead-bc07-0c0a67d0eec2",
   "metadata": {},
   "outputs": [
    {
     "name": "stdout",
     "output_type": "stream",
     "text": [
      "16575400.0\n",
      "<class 'float'>\n"
     ]
    }
   ],
   "source": [
    "y = 1.65754e+07\n",
    "print(y)\n",
    "print(type(y))"
   ]
  },
  {
   "cell_type": "code",
   "execution_count": 13,
   "id": "019d7d7b-93e1-45a0-9376-df1fcc4cdb29",
   "metadata": {},
   "outputs": [
    {
     "name": "stdout",
     "output_type": "stream",
     "text": [
      "2242.325263738745\n"
     ]
    }
   ],
   "source": [
    "print(x)"
   ]
  },
  {
   "cell_type": "code",
   "execution_count": 14,
   "id": "e27dc22a-df1a-47ee-b4ba-7fc070edc6cb",
   "metadata": {},
   "outputs": [
    {
     "name": "stdout",
     "output_type": "stream",
     "text": [
      "2242\n"
     ]
    }
   ],
   "source": [
    "print(int(x))"
   ]
  },
  {
   "cell_type": "code",
   "execution_count": 15,
   "id": "38049217-bcda-43ac-9f13-f56ab7378d01",
   "metadata": {},
   "outputs": [
    {
     "name": "stdout",
     "output_type": "stream",
     "text": [
      "<class 'int'>\n"
     ]
    }
   ],
   "source": [
    "print(type(int(x)))"
   ]
  },
  {
   "cell_type": "code",
   "execution_count": 16,
   "id": "c0154b49-452d-4e57-86f3-75e7277d03e8",
   "metadata": {},
   "outputs": [
    {
     "name": "stdout",
     "output_type": "stream",
     "text": [
      "2242.325263738745\n",
      "2242\n"
     ]
    }
   ],
   "source": [
    "new_x = int(x)\n",
    "print(x)\n",
    "print(new_x)"
   ]
  },
  {
   "cell_type": "code",
   "execution_count": 17,
   "id": "6e50807f-f1ca-4132-a56c-c138c7ee7660",
   "metadata": {},
   "outputs": [
    {
     "name": "stdout",
     "output_type": "stream",
     "text": [
      "My favourite number is 23\n",
      "<class 'str'>\n"
     ]
    }
   ],
   "source": [
    "phrase = 'My favourite number is 23'\n",
    "print(phrase)\n",
    "print(type(phrase))"
   ]
  },
  {
   "cell_type": "code",
   "execution_count": 18,
   "id": "877b3628-b7b2-4c2f-af15-53f4082baff1",
   "metadata": {},
   "outputs": [
    {
     "name": "stdout",
     "output_type": "stream",
     "text": [
      "... and he said 'waarom niet?'\n",
      "... and he said \"waarom niet?\"\n"
     ]
    }
   ],
   "source": [
    "print(\"... and he said 'waarom niet?'\")\n",
    "print('... and he said \"waarom niet?\"')"
   ]
  },
  {
   "cell_type": "markdown",
   "id": "4abf6b8e-ebeb-4b88-b506-9aaad3563464",
   "metadata": {},
   "source": [
    "## Loading data in Python"
   ]
  },
  {
   "cell_type": "code",
   "execution_count": 19,
   "id": "02da8d90-bc26-4de2-82a2-0b55dad42fff",
   "metadata": {},
   "outputs": [],
   "source": [
    "import numpy"
   ]
  },
  {
   "cell_type": "code",
   "execution_count": 20,
   "id": "41670fd7-1c34-41c6-97c6-147fff0477dc",
   "metadata": {},
   "outputs": [
    {
     "name": "stdout",
     "output_type": "stream",
     "text": [
      "Help on function loadtxt in module numpy:\n",
      "\n",
      "loadtxt(fname, dtype=<class 'float'>, comments='#', delimiter=None, converters=None, skiprows=0, usecols=None, unpack=False, ndmin=0, encoding='bytes', max_rows=None, *, like=None)\n",
      "    Load data from a text file.\n",
      "    \n",
      "    Each row in the text file must have the same number of values.\n",
      "    \n",
      "    Parameters\n",
      "    ----------\n",
      "    fname : file, str, or pathlib.Path\n",
      "        File, filename, or generator to read.  If the filename extension is\n",
      "        ``.gz`` or ``.bz2``, the file is first decompressed. Note that\n",
      "        generators should return byte strings.\n",
      "    dtype : data-type, optional\n",
      "        Data-type of the resulting array; default: float.  If this is a\n",
      "        structured data-type, the resulting array will be 1-dimensional, and\n",
      "        each row will be interpreted as an element of the array.  In this\n",
      "        case, the number of columns used must match the number of fields in\n",
      "        the data-type.\n",
      "    comments : str or sequence of str, optional\n",
      "        The characters or list of characters used to indicate the start of a\n",
      "        comment. None implies no comments. For backwards compatibility, byte\n",
      "        strings will be decoded as 'latin1'. The default is '#'.\n",
      "    delimiter : str, optional\n",
      "        The string used to separate values. For backwards compatibility, byte\n",
      "        strings will be decoded as 'latin1'. The default is whitespace.\n",
      "    converters : dict, optional\n",
      "        A dictionary mapping column number to a function that will parse the\n",
      "        column string into the desired value.  E.g., if column 0 is a date\n",
      "        string: ``converters = {0: datestr2num}``.  Converters can also be\n",
      "        used to provide a default value for missing data (but see also\n",
      "        `genfromtxt`): ``converters = {3: lambda s: float(s.strip() or 0)}``.\n",
      "        Default: None.\n",
      "    skiprows : int, optional\n",
      "        Skip the first `skiprows` lines, including comments; default: 0.\n",
      "    usecols : int or sequence, optional\n",
      "        Which columns to read, with 0 being the first. For example,\n",
      "        ``usecols = (1,4,5)`` will extract the 2nd, 5th and 6th columns.\n",
      "        The default, None, results in all columns being read.\n",
      "    \n",
      "        .. versionchanged:: 1.11.0\n",
      "            When a single column has to be read it is possible to use\n",
      "            an integer instead of a tuple. E.g ``usecols = 3`` reads the\n",
      "            fourth column the same way as ``usecols = (3,)`` would.\n",
      "    unpack : bool, optional\n",
      "        If True, the returned array is transposed, so that arguments may be\n",
      "        unpacked using ``x, y, z = loadtxt(...)``.  When used with a\n",
      "        structured data-type, arrays are returned for each field.\n",
      "        Default is False.\n",
      "    ndmin : int, optional\n",
      "        The returned array will have at least `ndmin` dimensions.\n",
      "        Otherwise mono-dimensional axes will be squeezed.\n",
      "        Legal values: 0 (default), 1 or 2.\n",
      "    \n",
      "        .. versionadded:: 1.6.0\n",
      "    encoding : str, optional\n",
      "        Encoding used to decode the inputfile. Does not apply to input streams.\n",
      "        The special value 'bytes' enables backward compatibility workarounds\n",
      "        that ensures you receive byte arrays as results if possible and passes\n",
      "        'latin1' encoded strings to converters. Override this value to receive\n",
      "        unicode arrays and pass strings as input to converters.  If set to None\n",
      "        the system default is used. The default value is 'bytes'.\n",
      "    \n",
      "        .. versionadded:: 1.14.0\n",
      "    max_rows : int, optional\n",
      "        Read `max_rows` lines of content after `skiprows` lines. The default\n",
      "        is to read all the lines.\n",
      "    \n",
      "        .. versionadded:: 1.16.0\n",
      "    like : array_like\n",
      "        Reference object to allow the creation of arrays which are not\n",
      "        NumPy arrays. If an array-like passed in as ``like`` supports\n",
      "        the ``__array_function__`` protocol, the result will be defined\n",
      "        by it. In this case, it ensures the creation of an array object\n",
      "        compatible with that passed in via this argument.\n",
      "    \n",
      "        .. versionadded:: 1.20.0\n",
      "    \n",
      "    Returns\n",
      "    -------\n",
      "    out : ndarray\n",
      "        Data read from the text file.\n",
      "    \n",
      "    See Also\n",
      "    --------\n",
      "    load, fromstring, fromregex\n",
      "    genfromtxt : Load data with missing values handled as specified.\n",
      "    scipy.io.loadmat : reads MATLAB data files\n",
      "    \n",
      "    Notes\n",
      "    -----\n",
      "    This function aims to be a fast reader for simply formatted files.  The\n",
      "    `genfromtxt` function provides more sophisticated handling of, e.g.,\n",
      "    lines with missing values.\n",
      "    \n",
      "    .. versionadded:: 1.10.0\n",
      "    \n",
      "    The strings produced by the Python float.hex method can be used as\n",
      "    input for floats.\n",
      "    \n",
      "    Examples\n",
      "    --------\n",
      "    >>> from io import StringIO   # StringIO behaves like a file object\n",
      "    >>> c = StringIO(\"0 1\\n2 3\")\n",
      "    >>> np.loadtxt(c)\n",
      "    array([[0., 1.],\n",
      "           [2., 3.]])\n",
      "    \n",
      "    >>> d = StringIO(\"M 21 72\\nF 35 58\")\n",
      "    >>> np.loadtxt(d, dtype={'names': ('gender', 'age', 'weight'),\n",
      "    ...                      'formats': ('S1', 'i4', 'f4')})\n",
      "    array([(b'M', 21, 72.), (b'F', 35, 58.)],\n",
      "          dtype=[('gender', 'S1'), ('age', '<i4'), ('weight', '<f4')])\n",
      "    \n",
      "    >>> c = StringIO(\"1,0,2\\n3,0,4\")\n",
      "    >>> x, y = np.loadtxt(c, delimiter=',', usecols=(0, 2), unpack=True)\n",
      "    >>> x\n",
      "    array([1., 3.])\n",
      "    >>> y\n",
      "    array([2., 4.])\n",
      "    \n",
      "    This example shows how `converters` can be used to convert a field\n",
      "    with a trailing minus sign into a negative number.\n",
      "    \n",
      "    >>> s = StringIO('10.01 31.25-\\n19.22 64.31\\n17.57- 63.94')\n",
      "    >>> def conv(fld):\n",
      "    ...     return -float(fld[:-1]) if fld.endswith(b'-') else float(fld)\n",
      "    ...\n",
      "    >>> np.loadtxt(s, converters={0: conv, 1: conv})\n",
      "    array([[ 10.01, -31.25],\n",
      "           [ 19.22,  64.31],\n",
      "           [-17.57,  63.94]])\n",
      "\n"
     ]
    }
   ],
   "source": [
    "help(numpy.loadtxt)"
   ]
  },
  {
   "cell_type": "code",
   "execution_count": 21,
   "id": "31a4c34d-d2b9-4b30-b4a3-c26ab326cd7a",
   "metadata": {},
   "outputs": [
    {
     "data": {
      "text/plain": [
       "array([[0., 0., 1., ..., 3., 0., 0.],\n",
       "       [0., 1., 2., ..., 1., 0., 1.],\n",
       "       [0., 1., 1., ..., 2., 1., 1.],\n",
       "       ...,\n",
       "       [0., 1., 1., ..., 1., 1., 1.],\n",
       "       [0., 0., 0., ..., 0., 2., 0.],\n",
       "       [0., 0., 1., ..., 1., 1., 0.]])"
      ]
     },
     "execution_count": 21,
     "metadata": {},
     "output_type": "execute_result"
    }
   ],
   "source": [
    "numpy.loadtxt('./data/inflammation-01.csv', delimiter=',')"
   ]
  },
  {
   "cell_type": "code",
   "execution_count": 22,
   "id": "a9016ba8-c866-4e78-947b-f8f99f7f8a45",
   "metadata": {},
   "outputs": [],
   "source": [
    "data = numpy.loadtxt('./data/inflammation-01.csv', delimiter=',')"
   ]
  },
  {
   "cell_type": "code",
   "execution_count": 23,
   "id": "339f1a10-923b-4577-a8aa-51a0b31e2966",
   "metadata": {},
   "outputs": [
    {
     "name": "stdout",
     "output_type": "stream",
     "text": [
      "[[0. 0. 1. ... 3. 0. 0.]\n",
      " [0. 1. 2. ... 1. 0. 1.]\n",
      " [0. 1. 1. ... 2. 1. 1.]\n",
      " ...\n",
      " [0. 1. 1. ... 1. 1. 1.]\n",
      " [0. 0. 0. ... 0. 2. 0.]\n",
      " [0. 0. 1. ... 1. 1. 0.]]\n"
     ]
    }
   ],
   "source": [
    "print(data)"
   ]
  },
  {
   "cell_type": "code",
   "execution_count": 24,
   "id": "ecdf1daf-b6f2-4ab0-886f-e696b72d53b6",
   "metadata": {},
   "outputs": [
    {
     "name": "stdout",
     "output_type": "stream",
     "text": [
      "<class 'numpy.ndarray'>\n"
     ]
    }
   ],
   "source": [
    "print(type(data))"
   ]
  },
  {
   "cell_type": "code",
   "execution_count": 25,
   "id": "751d3301-43e8-4e02-a50f-90cd1744f31b",
   "metadata": {},
   "outputs": [
    {
     "name": "stdout",
     "output_type": "stream",
     "text": [
      "float64\n"
     ]
    }
   ],
   "source": [
    "print(data.dtype)"
   ]
  },
  {
   "cell_type": "code",
   "execution_count": 26,
   "id": "38a9bf78-163a-4701-a8ed-65e5db03e0e9",
   "metadata": {},
   "outputs": [
    {
     "name": "stdout",
     "output_type": "stream",
     "text": [
      "(60, 40)\n"
     ]
    }
   ],
   "source": [
    "print(data.shape)"
   ]
  },
  {
   "cell_type": "code",
   "execution_count": 27,
   "id": "4b5a3e5e-f70a-4daa-9d1a-f6775869f331",
   "metadata": {
    "collapsed": true,
    "jupyter": {
     "outputs_hidden": true
    },
    "tags": []
   },
   "outputs": [
    {
     "data": {
      "text/plain": [
       "['T',\n",
       " '__abs__',\n",
       " '__add__',\n",
       " '__and__',\n",
       " '__array__',\n",
       " '__array_finalize__',\n",
       " '__array_function__',\n",
       " '__array_interface__',\n",
       " '__array_prepare__',\n",
       " '__array_priority__',\n",
       " '__array_struct__',\n",
       " '__array_ufunc__',\n",
       " '__array_wrap__',\n",
       " '__bool__',\n",
       " '__class__',\n",
       " '__complex__',\n",
       " '__contains__',\n",
       " '__copy__',\n",
       " '__deepcopy__',\n",
       " '__delattr__',\n",
       " '__delitem__',\n",
       " '__dir__',\n",
       " '__divmod__',\n",
       " '__doc__',\n",
       " '__eq__',\n",
       " '__float__',\n",
       " '__floordiv__',\n",
       " '__format__',\n",
       " '__ge__',\n",
       " '__getattribute__',\n",
       " '__getitem__',\n",
       " '__gt__',\n",
       " '__hash__',\n",
       " '__iadd__',\n",
       " '__iand__',\n",
       " '__ifloordiv__',\n",
       " '__ilshift__',\n",
       " '__imatmul__',\n",
       " '__imod__',\n",
       " '__imul__',\n",
       " '__index__',\n",
       " '__init__',\n",
       " '__init_subclass__',\n",
       " '__int__',\n",
       " '__invert__',\n",
       " '__ior__',\n",
       " '__ipow__',\n",
       " '__irshift__',\n",
       " '__isub__',\n",
       " '__iter__',\n",
       " '__itruediv__',\n",
       " '__ixor__',\n",
       " '__le__',\n",
       " '__len__',\n",
       " '__lshift__',\n",
       " '__lt__',\n",
       " '__matmul__',\n",
       " '__mod__',\n",
       " '__mul__',\n",
       " '__ne__',\n",
       " '__neg__',\n",
       " '__new__',\n",
       " '__or__',\n",
       " '__pos__',\n",
       " '__pow__',\n",
       " '__radd__',\n",
       " '__rand__',\n",
       " '__rdivmod__',\n",
       " '__reduce__',\n",
       " '__reduce_ex__',\n",
       " '__repr__',\n",
       " '__rfloordiv__',\n",
       " '__rlshift__',\n",
       " '__rmatmul__',\n",
       " '__rmod__',\n",
       " '__rmul__',\n",
       " '__ror__',\n",
       " '__rpow__',\n",
       " '__rrshift__',\n",
       " '__rshift__',\n",
       " '__rsub__',\n",
       " '__rtruediv__',\n",
       " '__rxor__',\n",
       " '__setattr__',\n",
       " '__setitem__',\n",
       " '__setstate__',\n",
       " '__sizeof__',\n",
       " '__str__',\n",
       " '__sub__',\n",
       " '__subclasshook__',\n",
       " '__truediv__',\n",
       " '__xor__',\n",
       " 'all',\n",
       " 'any',\n",
       " 'argmax',\n",
       " 'argmin',\n",
       " 'argpartition',\n",
       " 'argsort',\n",
       " 'astype',\n",
       " 'base',\n",
       " 'byteswap',\n",
       " 'choose',\n",
       " 'clip',\n",
       " 'compress',\n",
       " 'conj',\n",
       " 'conjugate',\n",
       " 'copy',\n",
       " 'ctypes',\n",
       " 'cumprod',\n",
       " 'cumsum',\n",
       " 'data',\n",
       " 'diagonal',\n",
       " 'dot',\n",
       " 'dtype',\n",
       " 'dump',\n",
       " 'dumps',\n",
       " 'fill',\n",
       " 'flags',\n",
       " 'flat',\n",
       " 'flatten',\n",
       " 'getfield',\n",
       " 'imag',\n",
       " 'item',\n",
       " 'itemset',\n",
       " 'itemsize',\n",
       " 'max',\n",
       " 'mean',\n",
       " 'min',\n",
       " 'nbytes',\n",
       " 'ndim',\n",
       " 'newbyteorder',\n",
       " 'nonzero',\n",
       " 'partition',\n",
       " 'prod',\n",
       " 'ptp',\n",
       " 'put',\n",
       " 'ravel',\n",
       " 'real',\n",
       " 'repeat',\n",
       " 'reshape',\n",
       " 'resize',\n",
       " 'round',\n",
       " 'searchsorted',\n",
       " 'setfield',\n",
       " 'setflags',\n",
       " 'shape',\n",
       " 'size',\n",
       " 'sort',\n",
       " 'squeeze',\n",
       " 'std',\n",
       " 'strides',\n",
       " 'sum',\n",
       " 'swapaxes',\n",
       " 'take',\n",
       " 'tobytes',\n",
       " 'tofile',\n",
       " 'tolist',\n",
       " 'tostring',\n",
       " 'trace',\n",
       " 'transpose',\n",
       " 'var',\n",
       " 'view']"
      ]
     },
     "execution_count": 27,
     "metadata": {},
     "output_type": "execute_result"
    }
   ],
   "source": [
    "dir(data)"
   ]
  },
  {
   "cell_type": "code",
   "execution_count": 28,
   "id": "fa58516d-1a14-48fd-9b86-2caa0fea8b39",
   "metadata": {},
   "outputs": [
    {
     "name": "stdout",
     "output_type": "stream",
     "text": [
      "[[0. 0. 1. ... 3. 0. 0.]\n",
      " [0. 1. 2. ... 1. 0. 1.]\n",
      " [0. 1. 1. ... 2. 1. 1.]\n",
      " ...\n",
      " [0. 1. 1. ... 1. 1. 1.]\n",
      " [0. 0. 0. ... 0. 2. 0.]\n",
      " [0. 0. 1. ... 1. 1. 0.]]\n"
     ]
    }
   ],
   "source": [
    "print(data)"
   ]
  },
  {
   "cell_type": "code",
   "execution_count": 29,
   "id": "06a77565-b8cf-4228-bbfe-dd4aff419cbd",
   "metadata": {},
   "outputs": [
    {
     "name": "stdout",
     "output_type": "stream",
     "text": [
      "This is the number of pimples of the first patient on the first day:  0.0\n"
     ]
    }
   ],
   "source": [
    "print(\"This is the number of pimples of the first patient on the first day: \", data[0,0])"
   ]
  },
  {
   "cell_type": "code",
   "execution_count": 30,
   "id": "47d7e92d-bbc0-4ebb-9f0e-a63da7be3c45",
   "metadata": {},
   "outputs": [
    {
     "name": "stdout",
     "output_type": "stream",
     "text": [
      "The number of pimples of the first patient during the first trial:  [ 0.  0.  1.  3.  1.  2.  4.  7.  8.  3.  3.  3. 10.  5.  7.  4.  7.  7.\n",
      " 12. 18.  6. 13. 11. 11.  7.  7.  4.  6.  8.  8.  4.  4.  5.  7.  3.  4.\n",
      "  2.  3.  0.  0.]\n"
     ]
    }
   ],
   "source": [
    "print(\"The number of pimples of the first patient during the first trial: \", data[0, :])"
   ]
  },
  {
   "cell_type": "code",
   "execution_count": 31,
   "id": "aa579430-d338-423a-9c8d-98392a164ecb",
   "metadata": {},
   "outputs": [
    {
     "data": {
      "text/plain": [
       "array([[ 0.,  0.,  1.,  3.,  1.,  2.,  4.,  7.,  8.,  3.,  3.,  3., 10.,\n",
       "         5.,  7.,  4.,  7.,  7., 12., 18.,  6., 13., 11., 11.,  7.,  7.,\n",
       "         4.,  6.,  8.,  8.,  4.,  4.,  5.,  7.,  3.,  4.,  2.,  3.,  0.,\n",
       "         0.],\n",
       "       [ 0.,  1.,  2.,  1.,  2.,  1.,  3.,  2.,  2.,  6., 10., 11.,  5.,\n",
       "         9.,  4.,  4.,  7., 16.,  8.,  6., 18.,  4., 12.,  5., 12.,  7.,\n",
       "        11.,  5., 11.,  3.,  3.,  5.,  4.,  4.,  5.,  5.,  1.,  1.,  0.,\n",
       "         1.]])"
      ]
     },
     "execution_count": 31,
     "metadata": {},
     "output_type": "execute_result"
    }
   ],
   "source": [
    "data[ :2, :]"
   ]
  },
  {
   "cell_type": "code",
   "execution_count": 32,
   "id": "e65d9446-1e75-40a2-9b2f-9f78de82d7e2",
   "metadata": {},
   "outputs": [
    {
     "name": "stdout",
     "output_type": "stream",
     "text": [
      "This is the number of pimples the last patient experiences in trial #1:  [ 0.  0.  1.  0.  3.  2.  5.  4.  8.  2.  9.  3.  3. 10. 12.  9. 14. 11.\n",
      " 13.  8.  6. 18. 11.  9. 13. 11.  8.  5.  5.  2.  8.  5.  3.  5.  4.  1.\n",
      "  3.  1.  1.  0.]\n"
     ]
    }
   ],
   "source": [
    "print(\"This is the number of pimples the last patient experiences in trial #1: \", data[-1, :])"
   ]
  },
  {
   "cell_type": "markdown",
   "id": "c3ed655d-dbe6-4917-99f1-55f0319088d5",
   "metadata": {},
   "source": [
    "## Analyzing data in Python"
   ]
  },
  {
   "cell_type": "code",
   "execution_count": 33,
   "id": "7ef848ef-9e2f-455e-9690-acda79acdb53",
   "metadata": {},
   "outputs": [
    {
     "data": {
      "text/plain": [
       "array([ 0.,  1.,  2.,  3.,  4.,  5.,  6.,  7.,  8.,  9., 10., 11., 12.,\n",
       "       13., 14., 15., 16., 17., 18., 19., 20., 19., 18., 17., 16., 15.,\n",
       "       14., 13., 12., 11., 10.,  9.,  8.,  7.,  6.,  5.,  4.,  3.,  2.,\n",
       "        1.])"
      ]
     },
     "execution_count": 33,
     "metadata": {},
     "output_type": "execute_result"
    }
   ],
   "source": [
    "data.max(axis=0)"
   ]
  },
  {
   "cell_type": "code",
   "execution_count": 34,
   "id": "a14c3adc-6082-4a35-a5c2-486b5554201f",
   "metadata": {},
   "outputs": [
    {
     "name": "stdout",
     "output_type": "stream",
     "text": [
      "<class 'numpy.ndarray'>\n"
     ]
    }
   ],
   "source": [
    "print(type(data.max(axis=0)))"
   ]
  },
  {
   "cell_type": "code",
   "execution_count": 35,
   "id": "f265ab3d-5b4f-40a1-82ee-a733aed94057",
   "metadata": {},
   "outputs": [
    {
     "name": "stdout",
     "output_type": "stream",
     "text": [
      "[ 0.  1.  2.  3.  4.  5.  6.  7.  8.  9. 10. 11. 12. 13. 14. 15. 16. 17.\n",
      " 18. 19. 20. 19. 18. 17. 16. 15. 14. 13. 12. 11. 10.  9.  8.  7.  6.  5.\n",
      "  4.  3.  2.  1.]\n",
      "<class 'numpy.ndarray'>\n",
      "40\n"
     ]
    }
   ],
   "source": [
    "maximum_per_day = data.max(axis=0)\n",
    "print(maximum_per_day)\n",
    "print(type(maximum_per_day))\n",
    "print(len(maximum_per_day))"
   ]
  },
  {
   "cell_type": "code",
   "execution_count": 36,
   "id": "eccceacb-3068-4222-865e-ef0aa4170068",
   "metadata": {},
   "outputs": [
    {
     "name": "stdout",
     "output_type": "stream",
     "text": [
      "[ 0.  1.  2.  3.  4.  5.  6.  7.  8.  9. 10. 11. 12. 13. 14. 15. 16. 17.\n",
      " 18. 19. 20. 19. 18. 17. 16. 15. 14. 13. 12. 11. 10.  9.  8.  7.  6.  5.\n",
      "  4.  3.  2.  1.]\n"
     ]
    }
   ],
   "source": [
    "print(numpy.max(data, axis=0))"
   ]
  },
  {
   "cell_type": "code",
   "execution_count": 37,
   "id": "22a42350-e3f5-4842-a543-49c2c8718c3e",
   "metadata": {},
   "outputs": [
    {
     "name": "stdout",
     "output_type": "stream",
     "text": [
      "[0. 0. 0. 0. 1. 1. 1. 1. 2. 2. 2. 2. 3. 3. 3. 3. 4. 5. 5. 5. 5. 4. 4. 4.\n",
      " 4. 3. 3. 3. 3. 2. 2. 2. 2. 1. 1. 1. 1. 0. 0. 0.]\n",
      "40\n"
     ]
    }
   ],
   "source": [
    "minimum_per_day = data.min(axis=0)\n",
    "print(minimum_per_day)\n",
    "print(len(minimum_per_day))"
   ]
  },
  {
   "cell_type": "markdown",
   "id": "a2ad9cdd-28a7-46ba-82a4-7b849ba52e3f",
   "metadata": {},
   "source": [
    "## Visualizing data in Python"
   ]
  },
  {
   "cell_type": "code",
   "execution_count": 38,
   "id": "6452ee1a-6967-4f45-a794-2594e59be183",
   "metadata": {},
   "outputs": [],
   "source": [
    "import matplotlib.pyplot "
   ]
  },
  {
   "cell_type": "code",
   "execution_count": 39,
   "id": "265af206-a7fa-401d-93ff-610ce397f6fc",
   "metadata": {},
   "outputs": [
    {
     "data": {
      "image/png": "[encoded data removed]",
      "text/plain": [
       "<Figure size 640x480 with 1 Axes>"
      ]
     },
     "metadata": {},
     "output_type": "display_data"
    }
   ],
   "source": [
    "matplotlib.pyplot.imshow(data)\n",
    "matplotlib.pyplot.show()"
   ]
  },
  {
   "cell_type": "markdown",
   "id": "057092a8-f11f-4bb3-bc62-6c05a2c4a7c3",
   "metadata": {},
   "source": [
    "### Nicknames\n",
    "\n",
    "numpy --> np \n",
    "\n",
    "matplotlib.pyplot --> plt\n",
    "\n",
    "pandas --> pd\n",
    "\n",
    "seaborn --> sns\n",
    "\n",
    "tensorflow --> tf\n",
    "...\n"
   ]
  },
  {
   "cell_type": "code",
   "execution_count": 40,
   "id": "7e798dbb-297a-4de7-a221-bc0c0cb6b1d6",
   "metadata": {},
   "outputs": [],
   "source": [
    "import numpy as np\n",
    "import matplotlib.pyplot as plt"
   ]
  },
  {
   "cell_type": "code",
   "execution_count": 41,
   "id": "6b2c8332-f6ae-424a-9fd6-b0b4bf66a7cc",
   "metadata": {},
   "outputs": [
    {
     "data": {
      "image/png": "[encoded data removed]",
      "text/plain": [
       "<Figure size 640x480 with 1 Axes>"
      ]
     },
     "metadata": {},
     "output_type": "display_data"
    }
   ],
   "source": [
    "plt.imshow(data)\n",
    "plt.show()"
   ]
  },
  {
   "cell_type": "code",
   "execution_count": 42,
   "id": "8af12b2b-dd2a-48ac-a0ad-89fec8c68dc5",
   "metadata": {},
   "outputs": [
    {
     "data": {
      "image/png": "[encoded data removed]",
      "text/plain": [
       "<Figure size 640x480 with 2 Axes>"
      ]
     },
     "metadata": {},
     "output_type": "display_data"
    }
   ],
   "source": [
    "plt.imshow(data)\n",
    "plt.colorbar()\n",
    "plt.show()"
   ]
  },
  {
   "cell_type": "code",
   "execution_count": 43,
   "id": "4c0e9b59-647d-41db-bd27-6f01692a3cd6",
   "metadata": {},
   "outputs": [
    {
     "data": {
      "image/png": "[encoded data removed]",
      "text/plain": [
       "<Figure size 640x480 with 2 Axes>"
      ]
     },
     "metadata": {},
     "output_type": "display_data"
    }
   ],
   "source": [
    "plt.imshow(data, cmap='gray')\n",
    "plt.colorbar()\n",
    "plt.show()"
   ]
  },
  {
   "cell_type": "code",
   "execution_count": 45,
   "id": "a688daf1-190d-4a5e-9f61-b113ad19a338",
   "metadata": {},
   "outputs": [
    {
     "data": {
      "image/png": "[encoded data removed]",
      "text/plain": [
       "<Figure size 640x480 with 2 Axes>"
      ]
     },
     "metadata": {},
     "output_type": "display_data"
    }
   ],
   "source": [
    "plt.imshow(data, cmap='Pastel1')\n",
    "plt.colorbar()\n",
    "plt.show()"
   ]
  },
  {
   "cell_type": "code",
   "execution_count": 46,
   "id": "097be175-1563-4832-a220-ca246da06ee5",
   "metadata": {},
   "outputs": [
    {
     "data": {
      "image/png": "[encoded data removed]",
      "text/plain": [
       "<Figure size 640x480 with 2 Axes>"
      ]
     },
     "metadata": {},
     "output_type": "display_data"
    }
   ],
   "source": [
    "plt.imshow(data, cmap='Pastel1')\n",
    "plt.colorbar(label='Number of pimples')\n",
    "plt.xlabel('Days')\n",
    "plt.ylabel('Patients')\n",
    "plt.title('inflammation-01')\n",
    "plt.show()"
   ]
  },
  {
   "cell_type": "code",
   "execution_count": 47,
   "id": "f802b2d2-f0f0-4b89-b0a4-b6483309065a",
   "metadata": {},
   "outputs": [
    {
     "name": "stdout",
     "output_type": "stream",
     "text": [
      "[ 0.  1.  2.  3.  4.  5.  6.  7.  8.  9. 10. 11. 12. 13. 14. 15. 16. 17.\n",
      " 18. 19. 20. 19. 18. 17. 16. 15. 14. 13. 12. 11. 10.  9.  8.  7.  6.  5.\n",
      "  4.  3.  2.  1.]\n"
     ]
    }
   ],
   "source": [
    "print(maximum_per_day)"
   ]
  },
  {
   "cell_type": "code",
   "execution_count": 48,
   "id": "e5e4474c-700b-41ae-ba96-2bac857d8041",
   "metadata": {},
   "outputs": [
    {
     "data": {
      "image/png": "[encoded data removed]",
      "text/plain": [
       "<Figure size 640x480 with 1 Axes>"
      ]
     },
     "metadata": {},
     "output_type": "display_data"
    }
   ],
   "source": [
    "plt.plot(maximum_per_day)\n",
    "plt.show()"
   ]
  },
  {
   "cell_type": "code",
   "execution_count": null,
   "id": "0ed58f05-2da8-4759-a950-e6136e241a7f",
   "metadata": {},
   "outputs": [],
   "source": [
    "plt.plot(maximum_per_day, '-o', color='red')\n",
    "plt.xlabel('Days')\n",
    "plt.ylabel('Maximum number of pimples per day')\n",
    "plt.title('inflammation-01')\n",
    "plt.savefig('Maximum_Per_Day_01.png')"
   ]
  }
 ],
 "metadata": {
  "kernelspec": {
   "display_name": "Python 3 (ipykernel)",
   "language": "python",
   "name": "python3"
  },
  "language_info": {
   "codemirror_mode": {
    "name": "ipython",
    "version": 3
   },
   "file_extension": ".py",
   "mimetype": "text/x-python",
   "name": "python",
   "nbconvert_exporter": "python",
   "pygments_lexer": "ipython3",
   "version": "3.9.13"
  }
 },
 "nbformat": 4,
 "nbformat_minor": 5
}
