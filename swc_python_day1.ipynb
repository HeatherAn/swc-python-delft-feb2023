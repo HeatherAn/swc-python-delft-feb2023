{
 "cells": [
  {
   "cell_type": "markdown",
   "id": "e97ad709-afa0-465b-a519-6a35a5b41184",
   "metadata": {},
   "source": [
    "# SWC Python Day 1"
   ]
  },
  {
   "cell_type": "markdown",
   "id": "5efceb2c-54ff-4ae4-99e2-5569b48bb53a",
   "metadata": {},
   "source": [
    "## This is a second level heading"
   ]
  },
  {
   "cell_type": "markdown",
   "id": "c11b4369-361f-433d-8e2f-f7d182c3617e",
   "metadata": {},
   "source": [
    "### This is a third level heading\n"
   ]
  },
  {
   "cell_type": "markdown",
   "id": "2a625a7d-eb38-493d-be0a-3e6470f2e0ba",
   "metadata": {},
   "source": [
    "Emphasize text in **boldface** or *italics*"
   ]
  },
  {
   "cell_type": "markdown",
   "id": "b2b0664c-9084-436c-a331-989e181035b6",
   "metadata": {},
   "source": [
    "You can add a link to a [website](https://software-carpentry.org/lessons/)"
   ]
  },
  {
   "cell_type": "markdown",
   "id": "1576cde8-f07f-4f94-90a4-0f839211ba9a",
   "metadata": {},
   "source": [
    "You can add emojis from [this Github repo](https://gist.github.com/rxaviers/7360908)\n",
    "\n",
    "😍 😟 😏"
   ]
  },
  {
   "cell_type": "markdown",
   "id": "0e386ee8-1b55-4b78-a8f1-c75c98cc7004",
   "metadata": {},
   "source": [
    "$\\texttt{Add some latex text and formulae}:$\n",
    "\n",
    "$\\int_{a}^{b} x^{2} \\, dx$\n",
    "\n",
    "$\\mu$ = 30 \n"
   ]
  },
  {
   "cell_type": "markdown",
   "id": "9f15b7e4-3b99-4783-bab8-eae75f20a5e8",
   "metadata": {},
   "source": [
    "You can also add images like this one:\n",
    "\n",
    "![](../../Pictures/swc_blue.png)"
   ]
  },
  {
   "cell_type": "markdown",
   "id": "a82e3aa0-0a79-46c7-b90f-67fa592ce6d0",
   "metadata": {},
   "source": [
    "![](https://apod.nasa.gov/apod/image/2302/Ngc1850_HubbleOzsarac_960.jpg)"
   ]
  },
  {
   "cell_type": "code",
   "execution_count": null,
   "id": "1126f9b5-f3b2-48a2-ac71-7c6609f8228b",
   "metadata": {},
   "outputs": [],
   "source": []
  }
 ],
 "metadata": {
  "kernelspec": {
   "display_name": "Python 3 (ipykernel)",
   "language": "python",
   "name": "python3"
  },
  "language_info": {
   "codemirror_mode": {
    "name": "ipython",
    "version": 3
   },
   "file_extension": ".py",
   "mimetype": "text/x-python",
   "name": "python",
   "nbconvert_exporter": "python",
   "pygments_lexer": "ipython3",
   "version": "3.9.13"
  }
 },
 "nbformat": 4,
 "nbformat_minor": 5
}
