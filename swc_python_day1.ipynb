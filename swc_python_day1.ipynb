{
 "cells": [
  {
   "cell_type": "markdown",
   "id": "e97ad709-afa0-465b-a519-6a35a5b41184",
   "metadata": {},
   "source": [
    "# SWC Python Day 1"
   ]
  },
  {
   "cell_type": "markdown",
   "id": "5efceb2c-54ff-4ae4-99e2-5569b48bb53a",
   "metadata": {},
   "source": [
    "## This is a second level heading"
   ]
  },
  {
   "cell_type": "markdown",
   "id": "c11b4369-361f-433d-8e2f-f7d182c3617e",
   "metadata": {},
   "source": [
    "### This is a third level heading\n"
   ]
  },
  {
   "cell_type": "markdown",
   "id": "2a625a7d-eb38-493d-be0a-3e6470f2e0ba",
   "metadata": {},
   "source": [
    "Emphasize text in **boldface** or *italics*"
   ]
  },
  {
   "cell_type": "markdown",
   "id": "b2b0664c-9084-436c-a331-989e181035b6",
   "metadata": {},
   "source": [
    "You can add a link to a [website](https://software-carpentry.org/lessons/)"
   ]
  },
  {
   "cell_type": "markdown",
   "id": "1576cde8-f07f-4f94-90a4-0f839211ba9a",
   "metadata": {},
   "source": [
    "You can add emojis from [this Github repo](https://gist.github.com/rxaviers/7360908)\n",
    "\n",
    "😍 😟 😏"
   ]
  },
  {
   "cell_type": "markdown",
   "id": "0e386ee8-1b55-4b78-a8f1-c75c98cc7004",
   "metadata": {},
   "source": [
    "$\\texttt{Add some latex text and formulae}:$\n",
    "\n",
    "$\\int_{a}^{b} x^{2} \\, dx$\n",
    "\n",
    "$\\mu$ = 30 \n"
   ]
  },
  {
   "cell_type": "markdown",
   "id": "9f15b7e4-3b99-4783-bab8-eae75f20a5e8",
   "metadata": {},
   "source": [
    "You can also add images like this one:\n",
    "\n",
    "![](../../Pictures/swc_blue.png)"
   ]
  },
  {
   "cell_type": "markdown",
   "id": "a82e3aa0-0a79-46c7-b90f-67fa592ce6d0",
   "metadata": {
    "jupyter": {
     "source_hidden": true
    },
    "tags": []
   },
   "source": [
    "![](https://apod.nasa.gov/apod/image/2302/Ngc1850_HubbleOzsarac_960.jpg)"
   ]
  },
  {
   "cell_type": "markdown",
   "id": "f1d9ec4f-8359-4846-8e31-21c2f7a5ecb4",
   "metadata": {},
   "source": [
    "## Code Cells"
   ]
  },
  {
   "cell_type": "code",
   "execution_count": 3,
   "id": "2267642b-75c1-46d1-879f-5eae324ff187",
   "metadata": {},
   "outputs": [],
   "source": [
    "a = 1"
   ]
  },
  {
   "cell_type": "markdown",
   "id": "d547d99b-4793-417c-961e-e4f6404105cd",
   "metadata": {},
   "source": [
    "## Variables and Types"
   ]
  },
  {
   "cell_type": "code",
   "execution_count": 4,
   "id": "1b7200ac-5e1e-4e2c-8438-ecec34e4297e",
   "metadata": {},
   "outputs": [],
   "source": [
    "weight_kg = 60"
   ]
  },
  {
   "cell_type": "code",
   "execution_count": 5,
   "id": "02080f48-1f1d-4985-ae00-ea4c0943d554",
   "metadata": {},
   "outputs": [
    {
     "name": "stdout",
     "output_type": "stream",
     "text": [
      "60\n"
     ]
    }
   ],
   "source": [
    "print(weight_kg)"
   ]
  },
  {
   "cell_type": "code",
   "execution_count": 6,
   "id": "0696bc3d-4dfe-4252-89f8-43ae0a307b6d",
   "metadata": {},
   "outputs": [
    {
     "name": "stdout",
     "output_type": "stream",
     "text": [
      "70\n"
     ]
    }
   ],
   "source": [
    "weight_kg0 = 70\n",
    "print(weight_kg0)"
   ]
  },
  {
   "cell_type": "code",
   "execution_count": 7,
   "id": "d717c077-b6ed-45e1-bd23-22820d3323c0",
   "metadata": {},
   "outputs": [
    {
     "ename": "SyntaxError",
     "evalue": "invalid syntax (3379446300.py, line 1)",
     "output_type": "error",
     "traceback": [
      "\u001b[1;36m  File \u001b[1;32m\"C:\\Users\\handrewsmancil\\AppData\\Local\\Temp\\ipykernel_60932\\3379446300.py\"\u001b[1;36m, line \u001b[1;32m1\u001b[0m\n\u001b[1;33m    0weight_kg = 90\u001b[0m\n\u001b[1;37m     ^\u001b[0m\n\u001b[1;31mSyntaxError\u001b[0m\u001b[1;31m:\u001b[0m invalid syntax\n"
     ]
    }
   ],
   "source": [
    "0weight_kg = 90\n",
    "print(0weight_kg)"
   ]
  },
  {
   "cell_type": "code",
   "execution_count": 8,
   "id": "28098565-cd7c-410e-ae34-e1b0785ba4e5",
   "metadata": {},
   "outputs": [
    {
     "name": "stdout",
     "output_type": "stream",
     "text": [
      "100 60\n"
     ]
    }
   ],
   "source": [
    "Weight_kg = 100\n",
    "print(Weight_kg, weight_kg)"
   ]
  },
  {
   "cell_type": "code",
   "execution_count": 9,
   "id": "b102c83e-68ee-4932-ba8a-380050031c3d",
   "metadata": {},
   "outputs": [
    {
     "name": "stdout",
     "output_type": "stream",
     "text": [
      "The weight in kilograms is:  60\n"
     ]
    }
   ],
   "source": [
    "print('The weight in kilograms is: ', weight_kg)"
   ]
  },
  {
   "cell_type": "code",
   "execution_count": 10,
   "id": "a558bfbb-6594-45bf-aa5c-17aa25d1bd49",
   "metadata": {},
   "outputs": [
    {
     "name": "stdout",
     "output_type": "stream",
     "text": [
      "<class 'int'>\n"
     ]
    }
   ],
   "source": [
    "print(type(weight_kg))"
   ]
  },
  {
   "cell_type": "code",
   "execution_count": 11,
   "id": "41370b3c-eff1-4905-95fa-9b02b68f2310",
   "metadata": {},
   "outputs": [
    {
     "name": "stdout",
     "output_type": "stream",
     "text": [
      "2242.325263738745\n",
      "<class 'float'>\n"
     ]
    }
   ],
   "source": [
    "x = 2242.325263738745\n",
    "print(x)\n",
    "print(type(x))"
   ]
  },
  {
   "cell_type": "code",
   "execution_count": 12,
   "id": "33e62137-2495-4ead-bc07-0c0a67d0eec2",
   "metadata": {},
   "outputs": [
    {
     "name": "stdout",
     "output_type": "stream",
     "text": [
      "16575400.0\n",
      "<class 'float'>\n"
     ]
    }
   ],
   "source": [
    "y = 1.65754e+07\n",
    "print(y)\n",
    "print(type(y))"
   ]
  },
  {
   "cell_type": "code",
   "execution_count": 13,
   "id": "019d7d7b-93e1-45a0-9376-df1fcc4cdb29",
   "metadata": {},
   "outputs": [
    {
     "name": "stdout",
     "output_type": "stream",
     "text": [
      "2242.325263738745\n"
     ]
    }
   ],
   "source": [
    "print(x)"
   ]
  },
  {
   "cell_type": "code",
   "execution_count": 14,
   "id": "e27dc22a-df1a-47ee-b4ba-7fc070edc6cb",
   "metadata": {},
   "outputs": [
    {
     "name": "stdout",
     "output_type": "stream",
     "text": [
      "2242\n"
     ]
    }
   ],
   "source": [
    "print(int(x))"
   ]
  },
  {
   "cell_type": "code",
   "execution_count": 15,
   "id": "38049217-bcda-43ac-9f13-f56ab7378d01",
   "metadata": {},
   "outputs": [
    {
     "name": "stdout",
     "output_type": "stream",
     "text": [
      "<class 'int'>\n"
     ]
    }
   ],
   "source": [
    "print(type(int(x)))"
   ]
  },
  {
   "cell_type": "code",
   "execution_count": 16,
   "id": "c0154b49-452d-4e57-86f3-75e7277d03e8",
   "metadata": {},
   "outputs": [
    {
     "name": "stdout",
     "output_type": "stream",
     "text": [
      "2242.325263738745\n",
      "2242\n"
     ]
    }
   ],
   "source": [
    "new_x = int(x)\n",
    "print(x)\n",
    "print(new_x)"
   ]
  },
  {
   "cell_type": "code",
   "execution_count": 17,
   "id": "6e50807f-f1ca-4132-a56c-c138c7ee7660",
   "metadata": {},
   "outputs": [
    {
     "name": "stdout",
     "output_type": "stream",
     "text": [
      "My favourite number is 23\n",
      "<class 'str'>\n"
     ]
    }
   ],
   "source": [
    "phrase = 'My favourite number is 23'\n",
    "print(phrase)\n",
    "print(type(phrase))"
   ]
  },
  {
   "cell_type": "code",
   "execution_count": 18,
   "id": "877b3628-b7b2-4c2f-af15-53f4082baff1",
   "metadata": {},
   "outputs": [
    {
     "name": "stdout",
     "output_type": "stream",
     "text": [
      "... and he said 'waarom niet?'\n",
      "... and he said \"waarom niet?\"\n"
     ]
    }
   ],
   "source": [
    "print(\"... and he said 'waarom niet?'\")\n",
    "print('... and he said \"waarom niet?\"')"
   ]
  },
  {
   "cell_type": "markdown",
   "id": "4abf6b8e-ebeb-4b88-b506-9aaad3563464",
   "metadata": {},
   "source": [
    "## Loading data in Python"
   ]
  },
  {
   "cell_type": "code",
   "execution_count": 19,
   "id": "02da8d90-bc26-4de2-82a2-0b55dad42fff",
   "metadata": {},
   "outputs": [],
   "source": [
    "import numpy"
   ]
  },
  {
   "cell_type": "code",
   "execution_count": null,
   "id": "41670fd7-1c34-41c6-97c6-147fff0477dc",
   "metadata": {},
   "outputs": [],
   "source": [
    "numpy."
   ]
  }
 ],
 "metadata": {
  "kernelspec": {
   "display_name": "Python 3 (ipykernel)",
   "language": "python",
   "name": "python3"
  },
  "language_info": {
   "codemirror_mode": {
    "name": "ipython",
    "version": 3
   },
   "file_extension": ".py",
   "mimetype": "text/x-python",
   "name": "python",
   "nbconvert_exporter": "python",
   "pygments_lexer": "ipython3",
   "version": "3.9.13"
  }
 },
 "nbformat": 4,
 "nbformat_minor": 5
}
