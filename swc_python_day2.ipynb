{
 "cells": [
  {
   "cell_type": "markdown",
   "id": "15fb2b13",
   "metadata": {},
   "source": [
    "# SWC Python Day 2\n",
    "\n",
    "## Continue with FOR Loops"
   ]
  },
  {
   "cell_type": "code",
   "execution_count": 1,
   "id": "5fa83442",
   "metadata": {},
   "outputs": [],
   "source": [
    "import numpy as np\n",
    "import matplotlib.pyplot as plt\n",
    "import glob"
   ]
  },
  {
   "cell_type": "code",
   "execution_count": null,
   "id": "c7350a32",
   "metadata": {},
   "outputs": [],
   "source": [
    "filenames = sorted(glob.glob('./data/inflammation*.csv'))"
   ]
  }
 ],
 "metadata": {
  "kernelspec": {
   "display_name": "Python 3 (ipykernel)",
   "language": "python",
   "name": "python3"
  },
  "language_info": {
   "codemirror_mode": {
    "name": "ipython",
    "version": 3
   },
   "file_extension": ".py",
   "mimetype": "text/x-python",
   "name": "python",
   "nbconvert_exporter": "python",
   "pygments_lexer": "ipython3",
   "version": "3.9.13"
  }
 },
 "nbformat": 4,
 "nbformat_minor": 5
}
