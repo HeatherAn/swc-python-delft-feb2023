{
 "cells": [
  {
   "cell_type": "markdown",
   "id": "962c6de5",
   "metadata": {},
   "source": [
    "# SWC Python Day 2\n",
    "\n",
    "## Continue with FOR Loops"
   ]
  },
  {
   "cell_type": "code",
   "execution_count": 1,
   "id": "fc44110e",
   "metadata": {},
   "outputs": [],
   "source": [
    "import numpy as np\n",
    "import matplotlib.pyplot as plt\n",
    "import glob"
   ]
  },
  {
   "cell_type": "code",
   "execution_count": null,
   "id": "1f4d5f75",
   "metadata": {},
   "outputs": [],
   "source": [
    "filenames = sorted(glob.glob('./data/inflammation*.csv'))\n",
    "\n",
    "for file in filenames:\n",
    "    \n",
    "    data = np.loadtxt(file, delimiter=',')\n",
    "    \n",
    "    fig = plt.figure(figsize=())"
   ]
  }
 ],
 "metadata": {
  "kernelspec": {
   "display_name": "Python 3 (ipykernel)",
   "language": "python",
   "name": "python3"
  },
  "language_info": {
   "codemirror_mode": {
    "name": "ipython",
    "version": 3
   },
   "file_extension": ".py",
   "mimetype": "text/x-python",
   "name": "python",
   "nbconvert_exporter": "python",
   "pygments_lexer": "ipython3",
   "version": "3.9.13"
  }
 },
 "nbformat": 4,
 "nbformat_minor": 5
}
