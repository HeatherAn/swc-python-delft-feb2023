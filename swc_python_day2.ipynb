{
 "cells": [
  {
   "cell_type": "markdown",
   "id": "7d5b45fc",
   "metadata": {},
   "source": [
    "# SWC Python Day 2\n",
    "\n",
    "## Continue with FOR Loops"
   ]
  },
  {
   "cell_type": "code",
   "execution_count": 1,
   "id": "097f0da8",
   "metadata": {},
   "outputs": [],
   "source": [
    "import numpy as np\n",
    "import matplotlib.pyplot as plt\n",
    "import glob"
   ]
  },
  {
   "cell_type": "code",
   "execution_count": null,
   "id": "e4d2528f",
   "metadata": {},
   "outputs": [],
   "source": [
    "filenames = sorted(glob.glob('./data/inflammation*.csv'))\n",
    "\n",
    "for file in filenames:\n",
    "    \n",
    "    data = np.loadtxt(file, delimiter=',')\n",
    "    \n",
    "    fig = plt.figure(figsize=(10, 3))\n",
    "    \n",
    "    axes1 = fig.add_subplot(1, 3, 1)\n",
    "    axes2 = fig.add_subplot(1, 3, 2)\n",
    "    axes3 = fig.add_subplot(1, 3, 3)\n",
    "    \n",
    "    axes1.plot(data.max(axis=0), '-o', color='red')\n",
    "    axes2.plot(data.min(axis=0), '-o', color='blue')\n",
    "    axes3.plot(data.mean(axis=0), '-o', color='green')\n",
    "    \n",
    "    axes2.set_xlabel('Days')\n",
    "    \n",
    "    axes1.set_ylabel('Maximum')\n",
    "    axes2.set_ylabel('Minimum')\n",
    "    axes3.set_ylabel('Mean')\n",
    "    \n",
    "    fig.tight_layout()\n",
    "    plt.savefig(file[:-3] + 'png')  #./data/inflammation-01.csv\n",
    "                                    #./data/inflammation-01.png\n",
    "    plt.show()\n"
   ]
  }
 ],
 "metadata": {
  "kernelspec": {
   "display_name": "Python 3 (ipykernel)",
   "language": "python",
   "name": "python3"
  },
  "language_info": {
   "codemirror_mode": {
    "name": "ipython",
    "version": 3
   },
   "file_extension": ".py",
   "mimetype": "text/x-python",
   "name": "python",
   "nbconvert_exporter": "python",
   "pygments_lexer": "ipython3",
   "version": "3.9.13"
  }
 },
 "nbformat": 4,
 "nbformat_minor": 5
}
