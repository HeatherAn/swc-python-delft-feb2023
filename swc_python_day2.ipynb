{
 "cells": [
  {
   "cell_type": "markdown",
   "id": "350a1f7c",
   "metadata": {},
   "source": [
    "# SWC Python Day 2\n",
    "\n",
    "## Conitnue with FOR Loops"
   ]
  },
  {
   "cell_type": "code",
   "execution_count": null,
   "id": "bb9414f7",
   "metadata": {},
   "outputs": [],
   "source": []
  }
 ],
 "metadata": {
  "kernelspec": {
   "display_name": "Python 3 (ipykernel)",
   "language": "python",
   "name": "python3"
  },
  "language_info": {
   "codemirror_mode": {
    "name": "ipython",
    "version": 3
   },
   "file_extension": ".py",
   "mimetype": "text/x-python",
   "name": "python",
   "nbconvert_exporter": "python",
   "pygments_lexer": "ipython3",
   "version": "3.9.13"
  }
 },
 "nbformat": 4,
 "nbformat_minor": 5
}
